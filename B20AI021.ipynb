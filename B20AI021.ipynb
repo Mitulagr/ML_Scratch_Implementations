{
  "nbformat": 4,
  "nbformat_minor": 0,
  "metadata": {
    "colab": {
      "name": "Lab1.ipynb",
      "provenance": [],
      "collapsed_sections": []
    },
    "kernelspec": {
      "name": "python3",
      "display_name": "Python 3"
    },
    "language_info": {
      "name": "python"
    }
  },
  "cells": [
    {
      "cell_type": "markdown",
      "source": [
        "# **PRML Lab 1**\n",
        "\n",
        "> ### Mitul Agrawal\n",
        "\n",
        "> ### B20AI021\n",
        "\n",
        "Drive Link : [PRML Lab 1 Drive](https://drive.google.com/drive/folders/1s-SjO2uPZO5FS-Wx7AxTVdquwn8q5JDf?usp=sharing)"
      ],
      "metadata": {
        "id": "mP7jo7qiT0dx"
      }
    },
    {
      "cell_type": "code",
      "execution_count": null,
      "metadata": {
        "id": "6B_pLQMzjVXO",
        "colab": {
          "base_uri": "https://localhost:8080/"
        },
        "outputId": "91d248c2-771d-4813-fa5e-733389a86c7d"
      },
      "outputs": [
        {
          "output_type": "stream",
          "name": "stdout",
          "text": [
            "Mounted at /content/drive/\n"
          ]
        }
      ],
      "source": [
        "from google.colab import drive\n",
        "drive.mount('/content/drive/')\n",
        "\n",
        "path = '/content/drive/My Drive/PRML/Lab 1/'"
      ]
    },
    {
      "cell_type": "markdown",
      "source": [
        "##Problem - 1"
      ],
      "metadata": {
        "id": "llN8uMLPS9dQ"
      }
    },
    {
      "cell_type": "code",
      "source": [
        "# Problem 1 - a\n",
        "\n",
        "file = open(path+'Cars93.csv')\n",
        "data_list = list(file)\n",
        "print(\"Rows :\",len(data_list))\n",
        "print(\"Columns :\",len(data_list[0]))\n",
        "print(\"List :\",data_list)"
      ],
      "metadata": {
        "colab": {
          "base_uri": "https://localhost:8080/"
        },
        "id": "aiJ8EnSikOXr",
        "outputId": "2bea658a-5679-427e-91ec-7313c1dec538"
      },
      "execution_count": 318,
      "outputs": [
        {
          "output_type": "stream",
          "name": "stdout",
          "text": [
            "Rows : 94\n",
            "Columns : 262\n",
            "List : ['Manufacturer,Model,Type,Min.Price,Price,Max.Price,MPG.city,MPG.highway,AirBags,DriveTrain,Cylinders,EngineSize,Horsepower,RPM,Rev.per.mile,Man.trans.avail,Fuel.tank.capacity,Passengers,Length,Wheelbase,Width,Turn.circle,Rear.seat.room,Luggage.room,Weight,Origin\\n', 'Acura,Integra,Small,12.9,15.9,18.8,25,31,None,Front,4,1.8,140,6300,2890,Yes,13.2,5,177,102,68,37,26.5,11,2705,non-USA\\n', 'Acura,Legend,Midsize,29.2,33.9,38.7,18,25,Driver & Passenger,Front,6,3.2,200,5500,2335,Yes,18,5,195,115,71,38,30,15,3560,non-USA\\n', 'Audi,90,Compact,25.9,29.1,32.3,20,26,Driver only,Front,6,2.8,172,5500,2280,Yes,16.9,5,180,102,67,37,28,14,3375,non-USA\\n', 'Audi,100,Midsize,30.8,37.7,44.6,19,26,Driver & Passenger,Front,6,2.8,172,5500,2535,Yes,21.1,6,193,106,70,37,31,17,3405,non-USA\\n', 'BMW,535i,Midsize,23.7,30,36.2,22,30,Driver only,Rear,4,3.5,208,5700,2545,Yes,21.1,4,186,109,69,39,27,13,3640,non-USA\\n', 'Buick,Century,Midsize,14.2,15.7,17.3,22,31,Driver only,Front,4,2.2,110,5200,2565,No,16.4,6,189,105,69,41,28,16,2880,USA\\n', 'Buick,LeSabre,Large,19.9,20.8,21.7,19,28,Driver only,Front,6,3.8,170,4800,1570,No,18,6,200,111,74,42,30.5,17,3470,USA\\n', 'Buick,Roadmaster,Large,22.6,23.7,24.9,16,25,Driver only,Rear,6,5.7,180,4000,1320,No,23,6,216,116,78,45,30.5,21,4105,USA\\n', 'Buick,Riviera,Midsize,26.3,26.3,26.3,19,27,Driver only,Front,6,3.8,170,4800,1690,No,18.8,5,198,108,73,41,26.5,14,3495,USA\\n', 'Cadillac,DeVille,Large,33,34.7,36.3,16,25,Driver only,Front,8,4.9,200,4100,1510,No,18,6,206,114,73,43,35,18,3620,USA\\n', 'Cadillac,Seville,Midsize,37.5,40.1,42.7,16,25,Driver & Passenger,Front,8,4.6,295,6000,1985,No,20,5,204,111,74,44,31,14,3935,USA\\n', 'Chevrolet,Cavalier,Compact,8.5,13.4,18.3,25,36,None,Front,4,2.2,110,5200,2380,Yes,15.2,5,182,101,66,38,25,13,2490,USA\\n', 'Chevrolet,Corsica,Compact,11.4,11.4,11.4,25,34,Driver only,Front,4,2.2,110,5200,2665,Yes,15.6,5,184,103,68,39,26,14,2785,USA\\n', 'Chevrolet,Camaro,Sporty,13.4,15.1,16.8,19,28,Driver & Passenger,Rear,6,3.4,160,4600,1805,Yes,15.5,4,193,101,74,43,25,13,3240,USA\\n', 'Chevrolet,Lumina,Midsize,13.4,15.9,18.4,21,29,None,Front,4,2.2,110,5200,2595,No,16.5,6,198,108,71,40,28.5,16,3195,USA\\n', 'Chevrolet,Lumina_APV,Van,14.7,16.3,18,18,23,None,Front,6,3.8,170,4800,1690,No,20,7,178,110,74,44,30.5,NA,3715,USA\\n', 'Chevrolet,Astro,Van,14.7,16.6,18.6,15,20,None,4WD,6,4.3,165,4000,1790,No,27,8,194,111,78,42,33.5,NA,4025,USA\\n', 'Chevrolet,Caprice,Large,18,18.8,19.6,17,26,Driver only,Rear,8,5,170,4200,1350,No,23,6,214,116,77,42,29.5,20,3910,USA\\n', 'Chevrolet,Corvette,Sporty,34.6,38,41.5,17,25,Driver only,Rear,8,5.7,300,5000,1450,Yes,20,2,179,96,74,43,NA,NA,3380,USA\\n', 'Chrylser,Concorde,Large,18.4,18.4,18.4,20,28,Driver & Passenger,Front,6,3.3,153,5300,1990,No,18,6,203,113,74,40,31,15,3515,USA\\n', 'Chrysler,LeBaron,Compact,14.5,15.8,17.1,23,28,Driver & Passenger,Front,4,3,141,5000,2090,No,16,6,183,104,68,41,30.5,14,3085,USA\\n', 'Chrysler,Imperial,Large,29.5,29.5,29.5,20,26,Driver only,Front,6,3.3,147,4800,1785,No,16,6,203,110,69,44,36,17,3570,USA\\n', 'Dodge,Colt,Small,7.9,9.2,10.6,29,33,None,Front,4,1.5,92,6000,3285,Yes,13.2,5,174,98,66,32,26.5,11,2270,USA\\n', 'Dodge,Shadow,Small,8.4,11.3,14.2,23,29,Driver only,Front,4,2.2,93,4800,2595,Yes,14,5,172,97,67,38,26.5,13,2670,USA\\n', 'Dodge,Spirit,Compact,11.9,13.3,14.7,22,27,Driver only,Front,4,2.5,100,4800,2535,Yes,16,6,181,104,68,39,30.5,14,2970,USA\\n', 'Dodge,Caravan,Van,13.6,19,24.4,17,21,Driver only,4WD,6,3,142,5000,1970,No,20,7,175,112,72,42,26.5,NA,3705,USA\\n', 'Dodge,Dynasty,Midsize,14.8,15.6,16.4,21,27,Driver only,Front,4,2.5,100,4800,2465,No,16,6,192,105,69,42,30.5,16,3080,USA\\n', 'Dodge,Stealth,Sporty,18.5,25.8,33.1,18,24,Driver only,4WD,6,3,300,6000,2120,Yes,19.8,4,180,97,72,40,20,11,3805,USA\\n', 'Eagle,Summit,Small,7.9,12.2,16.5,29,33,None,Front,4,1.5,92,6000,2505,Yes,13.2,5,174,98,66,36,26.5,11,2295,USA\\n', 'Eagle,Vision,Large,17.5,19.3,21.2,20,28,Driver & Passenger,Front,6,3.5,214,5800,1980,No,18,6,202,113,74,40,30,15,3490,USA\\n', 'Ford,Festiva,Small,6.9,7.4,7.9,31,33,None,Front,4,1.3,63,5000,3150,Yes,10,4,141,90,63,33,26,12,1845,USA\\n', 'Ford,Escort,Small,8.4,10.1,11.9,23,30,None,Front,4,1.8,127,6500,2410,Yes,13.2,5,171,98,67,36,28,12,2530,USA\\n', 'Ford,Tempo,Compact,10.4,11.3,12.2,22,27,None,Front,4,2.3,96,4200,2805,Yes,15.9,5,177,100,68,39,27.5,13,2690,USA\\n', 'Ford,Mustang,Sporty,10.8,15.9,21,22,29,Driver only,Rear,4,2.3,105,4600,2285,Yes,15.4,4,180,101,68,40,24,12,2850,USA\\n', 'Ford,Probe,Sporty,12.8,14,15.2,24,30,Driver only,Front,4,2,115,5500,2340,Yes,15.5,4,179,103,70,38,23,18,2710,USA\\n', 'Ford,Aerostar,Van,14.5,19.9,25.3,15,20,Driver only,4WD,6,3,145,4800,2080,Yes,21,7,176,119,72,45,30,NA,3735,USA\\n', 'Ford,Taurus,Midsize,15.6,20.2,24.8,21,30,Driver only,Front,6,3,140,4800,1885,No,16,5,192,106,71,40,27.5,18,3325,USA\\n', 'Ford,Crown_Victoria,Large,20.1,20.9,21.7,18,26,Driver only,Rear,8,4.6,190,4200,1415,No,20,6,212,114,78,43,30,21,3950,USA\\n', 'Geo,Metro,Small,6.7,8.4,10,46,50,None,Front,3,1,55,5700,3755,Yes,10.6,4,151,93,63,34,27.5,10,1695,non-USA\\n', 'Geo,Storm,Sporty,11.5,12.5,13.5,30,36,Driver only,Front,4,1.6,90,5400,3250,Yes,12.4,4,164,97,67,37,24.5,11,2475,non-USA\\n', 'Honda,Prelude,Sporty,17,19.8,22.7,24,31,Driver & Passenger,Front,4,2.3,160,5800,2855,Yes,15.9,4,175,100,70,39,23.5,8,2865,non-USA\\n', 'Honda,Civic,Small,8.4,12.1,15.8,42,46,Driver only,Front,4,1.5,102,5900,2650,Yes,11.9,4,173,103,67,36,28,12,2350,non-USA\\n', 'Honda,Accord,Compact,13.8,17.5,21.2,24,31,Driver & Passenger,Front,4,2.2,140,5600,2610,Yes,17,4,185,107,67,41,28,14,3040,non-USA\\n', 'Hyundai,Excel,Small,6.8,8,9.2,29,33,None,Front,4,1.5,81,5500,2710,Yes,11.9,5,168,94,63,35,26,11,2345,non-USA\\n', 'Hyundai,Elantra,Small,9,10,11,22,29,None,Front,4,1.8,124,6000,2745,Yes,13.7,5,172,98,66,36,28,12,2620,non-USA\\n', 'Hyundai,Scoupe,Sporty,9.1,10,11,26,34,None,Front,4,1.5,92,5550,2540,Yes,11.9,4,166,94,64,34,23.5,9,2285,non-USA\\n', 'Hyundai,Sonata,Midsize,12.4,13.9,15.3,20,27,None,Front,4,2,128,6000,2335,Yes,17.2,5,184,104,69,41,31,14,2885,non-USA\\n', 'Infiniti,Q45,Midsize,45.4,47.9,50.4,17,22,Driver only,Rear,8,4.5,278,6000,1955,No,22.5,5,200,113,72,42,29,15,4000,non-USA\\n', 'Lexus,ES300,Midsize,27.5,28,28.4,18,24,Driver only,Front,6,3,185,5200,2325,Yes,18.5,5,188,103,70,40,27.5,14,3510,non-USA\\n', 'Lexus,SC300,Midsize,34.7,35.2,35.6,18,23,Driver & Passenger,Rear,6,3,225,6000,2510,Yes,20.6,4,191,106,71,39,25,9,3515,non-USA\\n', 'Lincoln,Continental,Midsize,33.3,34.3,35.3,17,26,Driver & Passenger,Front,6,3.8,160,4400,1835,No,18.4,6,205,109,73,42,30,19,3695,USA\\n', 'Lincoln,Town_Car,Large,34.4,36.1,37.8,18,26,Driver & Passenger,Rear,8,4.6,210,4600,1840,No,20,6,219,117,77,45,31.5,22,4055,USA\\n', 'Mazda,323,Small,7.4,8.3,9.1,29,37,None,Front,4,1.6,82,5000,2370,Yes,13.2,4,164,97,66,34,27,16,2325,non-USA\\n', 'Mazda,Protege,Small,10.9,11.6,12.3,28,36,None,Front,4,1.8,103,5500,2220,Yes,14.5,5,172,98,66,36,26.5,13,2440,non-USA\\n', 'Mazda,626,Compact,14.3,16.5,18.7,26,34,Driver only,Front,4,2.5,164,5600,2505,Yes,15.5,5,184,103,69,40,29.5,14,2970,non-USA\\n', 'Mazda,MPV,Van,16.6,19.1,21.7,18,24,None,4WD,6,3,155,5000,2240,No,19.6,7,190,110,72,39,27.5,NA,3735,non-USA\\n', 'Mazda,RX-7,Sporty,32.5,32.5,32.5,17,25,Driver only,Rear,rotary,1.3,255,6500,2325,Yes,20,2,169,96,69,37,NA,NA,2895,non-USA\\n', 'Mercedes-Benz,190E,Compact,29,31.9,34.9,20,29,Driver only,Rear,4,2.3,130,5100,2425,Yes,14.5,5,175,105,67,34,26,12,2920,non-USA\\n', 'Mercedes-Benz,300E,Midsize,43.8,61.9,80,19,25,Driver & Passenger,Rear,6,3.2,217,5500,2220,No,18.5,5,187,110,69,37,27,15,3525,non-USA\\n', 'Mercury,Capri,Sporty,13.3,14.1,15,23,26,Driver only,Front,4,1.6,100,5750,2475,Yes,11.1,4,166,95,65,36,19,6,2450,USA\\n', 'Mercury,Cougar,Midsize,14.9,14.9,14.9,19,26,None,Rear,6,3.8,140,3800,1730,No,18,5,199,113,73,38,28,15,3610,USA\\n', 'Mitsubishi,Mirage,Small,7.7,10.3,12.9,29,33,None,Front,4,1.5,92,6000,2505,Yes,13.2,5,172,98,67,36,26,11,2295,non-USA\\n', 'Mitsubishi,Diamante,Midsize,22.4,26.1,29.9,18,24,Driver only,Front,6,3,202,6000,2210,No,19,5,190,107,70,43,27.5,14,3730,non-USA\\n', 'Nissan,Sentra,Small,8.7,11.8,14.9,29,33,Driver only,Front,4,1.6,110,6000,2435,Yes,13.2,5,170,96,66,33,26,12,2545,non-USA\\n', 'Nissan,Altima,Compact,13,15.7,18.3,24,30,Driver only,Front,4,2.4,150,5600,2130,Yes,15.9,5,181,103,67,40,28.5,14,3050,non-USA\\n', 'Nissan,Quest,Van,16.7,19.1,21.5,17,23,None,Front,6,3,151,4800,2065,No,20,7,190,112,74,41,27,NA,4100,non-USA\\n', 'Nissan,Maxima,Midsize,21,21.5,22,21,26,Driver only,Front,6,3,160,5200,2045,No,18.5,5,188,104,69,41,28.5,14,3200,non-USA\\n', 'Oldsmobile,Achieva,Compact,13,13.5,14,24,31,None,Front,4,2.3,155,6000,2380,No,15.2,5,188,103,67,39,28,14,2910,USA\\n', 'Oldsmobile,Cutlass_Ciera,Midsize,14.2,16.3,18.4,23,31,Driver only,Front,4,2.2,110,5200,2565,No,16.5,5,190,105,70,42,28,16,2890,USA\\n', 'Oldsmobile,Silhouette,Van,19.5,19.5,19.5,18,23,None,Front,6,3.8,170,4800,1690,No,20,7,194,110,74,44,30.5,NA,3715,USA\\n', 'Oldsmobile,Eighty-Eight,Large,19.5,20.7,21.9,19,28,Driver only,Front,6,3.8,170,4800,1570,No,18,6,201,111,74,42,31.5,17,3470,USA\\n', 'Plymouth,Laser,Sporty,11.4,14.4,17.4,23,30,None,4WD,4,1.8,92,5000,2360,Yes,15.9,4,173,97,67,39,24.5,8,2640,USA\\n', 'Pontiac,LeMans,Small,8.2,9,9.9,31,41,None,Front,4,1.6,74,5600,3130,Yes,13.2,4,177,99,66,35,25.5,17,2350,USA\\n', 'Pontiac,Sunbird,Compact,9.4,11.1,12.8,23,31,None,Front,4,2,110,5200,2665,Yes,15.2,5,181,101,66,39,25,13,2575,USA\\n', 'Pontiac,Firebird,Sporty,14,17.7,21.4,19,28,Driver & Passenger,Rear,6,3.4,160,4600,1805,Yes,15.5,4,196,101,75,43,25,13,3240,USA\\n', 'Pontiac,Grand_Prix,Midsize,15.4,18.5,21.6,19,27,None,Front,6,3.4,200,5000,1890,Yes,16.5,5,195,108,72,41,28.5,16,3450,USA\\n', 'Pontiac,Bonneville,Large,19.4,24.4,29.4,19,28,Driver & Passenger,Front,6,3.8,170,4800,1565,No,18,6,177,111,74,43,30.5,18,3495,USA\\n', 'Saab,900,Compact,20.3,28.7,37.1,20,26,Driver only,Front,4,2.1,140,6000,2910,Yes,18,5,184,99,67,37,26.5,14,2775,non-USA\\n', 'Saturn,SL,Small,9.2,11.1,12.9,28,38,Driver only,Front,4,1.9,85,5000,2145,Yes,12.8,5,176,102,68,40,26.5,12,2495,USA\\n', 'Subaru,Justy,Small,7.3,8.4,9.5,33,37,None,4WD,3,1.2,73,5600,2875,Yes,9.2,4,146,90,60,32,23.5,10,2045,non-USA\\n', 'Subaru,Loyale,Small,10.5,10.9,11.3,25,30,None,4WD,4,1.8,90,5200,3375,Yes,15.9,5,175,97,65,35,27.5,15,2490,non-USA\\n', 'Subaru,Legacy,Compact,16.3,19.5,22.7,23,30,Driver only,4WD,4,2.2,130,5600,2330,Yes,15.9,5,179,102,67,37,27,14,3085,non-USA\\n', 'Suzuki,Swift,Small,7.3,8.6,10,39,43,None,Front,3,1.3,70,6000,3360,Yes,10.6,4,161,93,63,34,27.5,10,1965,non-USA\\n', 'Toyota,Tercel,Small,7.8,9.8,11.8,32,37,Driver only,Front,4,1.5,82,5200,3505,Yes,11.9,5,162,94,65,36,24,11,2055,non-USA\\n', 'Toyota,Celica,Sporty,14.2,18.4,22.6,25,32,Driver only,Front,4,2.2,135,5400,2405,Yes,15.9,4,174,99,69,39,23,13,2950,non-USA\\n', 'Toyota,Camry,Midsize,15.2,18.2,21.2,22,29,Driver only,Front,4,2.2,130,5400,2340,Yes,18.5,5,188,103,70,38,28.5,15,3030,non-USA\\n', 'Toyota,Previa,Van,18.9,22.7,26.6,18,22,Driver only,4WD,4,2.4,138,5000,2515,Yes,19.8,7,187,113,71,41,35,NA,3785,non-USA\\n', 'Volkswagen,Fox,Small,8.7,9.1,9.5,25,33,None,Front,4,1.8,81,5500,2550,Yes,12.4,4,163,93,63,34,26,10,2240,non-USA\\n', 'Volkswagen,Eurovan,Van,16.6,19.7,22.7,17,21,None,Front,5,2.5,109,4500,2915,Yes,21.1,7,187,115,72,38,34,NA,3960,non-USA\\n', 'Volkswagen,Passat,Compact,17.6,20,22.4,21,30,None,Front,4,2,134,5800,2685,Yes,18.5,5,180,103,67,35,31.5,14,2985,non-USA\\n', 'Volkswagen,Corrado,Sporty,22.9,23.3,23.7,18,25,None,Front,6,2.8,178,5800,2385,Yes,18.5,4,159,97,66,36,26,15,2810,non-USA\\n', 'Volvo,240,Compact,21.8,22.7,23.5,21,28,Driver only,Rear,4,2.3,114,5400,2215,Yes,15.8,5,190,104,67,37,29.5,14,2985,non-USA\\n', 'Volvo,850,Midsize,24.8,26.7,28.5,20,28,Driver & Passenger,Front,5,2.4,168,6200,2310,Yes,19.3,5,184,105,69,38,30,15,3245,non-USA\\n']\n"
          ]
        }
      ]
    },
    {
      "cell_type": "code",
      "source": [
        "# Problem 1 - b\n",
        "\n",
        "n = int(input(\"Enter Number : \"))\n",
        "n = int(n)\n",
        "print(type(n))\n",
        "print(n)"
      ],
      "metadata": {
        "id": "j0PJVPLylgdT",
        "colab": {
          "base_uri": "https://localhost:8080/"
        },
        "outputId": "de41f5bb-cc2a-4f2c-da91-32a234441a69"
      },
      "execution_count": 319,
      "outputs": [
        {
          "output_type": "stream",
          "name": "stdout",
          "text": [
            "Enter Number : 5\n",
            "<class 'int'>\n",
            "5\n"
          ]
        }
      ]
    },
    {
      "cell_type": "code",
      "source": [
        "# Problem 1 - c\n",
        "\n",
        "import datetime\n",
        "\n",
        "date_str = input(\"Enter Date-Time (Format- 1:30 PM, 14 Jan 2022) : \")\n",
        "\n",
        "while(date_str[0]==' ') : date_str = date_str[1:]\n",
        "\n",
        "date_dt = datetime.datetime.strptime(date_str, '%I:%M %p, %d %b %Y')\n",
        "\n",
        "print(type(date_dt))\n",
        "print(date_dt)"
      ],
      "metadata": {
        "id": "opl-Eu8VlyXE",
        "colab": {
          "base_uri": "https://localhost:8080/"
        },
        "outputId": "9b7b4744-7425-4001-f278-ac0dfe4f5f51"
      },
      "execution_count": 320,
      "outputs": [
        {
          "output_type": "stream",
          "name": "stdout",
          "text": [
            "Enter Date-Time (Format- 1:30 PM, 14 Jan 2022) : 3:15 PM, 22 Jan 2022\n",
            "<class 'datetime.datetime'>\n",
            "2022-01-22 15:15:00\n"
          ]
        }
      ]
    },
    {
      "cell_type": "code",
      "source": [
        "# Problem 1 - d\n",
        "\n",
        "import subprocess\n",
        "\n",
        "date = subprocess.check_output('date')\n",
        "print(date)"
      ],
      "metadata": {
        "id": "dBSUJhXinyYg",
        "colab": {
          "base_uri": "https://localhost:8080/"
        },
        "outputId": "3cd669b9-f038-43da-99ff-bad9965f50e9"
      },
      "execution_count": 321,
      "outputs": [
        {
          "output_type": "stream",
          "name": "stdout",
          "text": [
            "b'Sat Jan 22 20:36:13 UTC 2022\\n'\n"
          ]
        }
      ]
    },
    {
      "cell_type": "code",
      "source": [
        "# Problem 1 - e\n",
        "\n",
        "# we use list.count(item) to count the number of occurances of an item in a list\n",
        "l = [1,2,2,2,3,3,4]\n",
        "print(\"Count of '2' in list is :\",l.count(2))"
      ],
      "metadata": {
        "id": "LssuIJdxoUqj",
        "colab": {
          "base_uri": "https://localhost:8080/"
        },
        "outputId": "dc6ef3d5-d350-45d6-f804-6bf64b250e90"
      },
      "execution_count": 322,
      "outputs": [
        {
          "output_type": "stream",
          "name": "stdout",
          "text": [
            "Count of '2' in list is : 3\n"
          ]
        }
      ]
    },
    {
      "cell_type": "code",
      "source": [
        "# Problem 1 - f\n",
        "\n",
        "flat = []\n",
        "\n",
        "def flatten(a) : \n",
        "  global flat\n",
        "  if(type(a)!=list) :\n",
        "    flat.append(a)\n",
        "    return\n",
        "  for i in a : flatten(i)\n",
        "  return\n",
        "\n",
        "a = [[1,2,3],[4,5,6],[[7,8],9]]\n",
        "\n",
        "print(\"Initial List   :\",a)\n",
        "flatten(a)\n",
        "print(\"Flattened List :\",flat)"
      ],
      "metadata": {
        "id": "RoD3XzvaTmmr",
        "colab": {
          "base_uri": "https://localhost:8080/"
        },
        "outputId": "2aacf3a0-49b7-4a46-bb65-8fdc126c8785"
      },
      "execution_count": 323,
      "outputs": [
        {
          "output_type": "stream",
          "name": "stdout",
          "text": [
            "Initial List   : [[1, 2, 3], [4, 5, 6], [[7, 8], 9]]\n",
            "Flattened List : [1, 2, 3, 4, 5, 6, 7, 8, 9]\n"
          ]
        }
      ]
    },
    {
      "cell_type": "code",
      "source": [
        "# Problem 1 - g\n",
        "\n",
        "d1 = {'a':0,'b':1}\n",
        "d2 = {'c':2,'d':3}\n",
        "d = {**d1, **d2}\n",
        "print(d1)\n",
        "print(d2)\n",
        "print(d)"
      ],
      "metadata": {
        "colab": {
          "base_uri": "https://localhost:8080/"
        },
        "id": "bPv5xRDW7c38",
        "outputId": "79b53cb0-b021-49ab-e17b-72edef38c525"
      },
      "execution_count": 324,
      "outputs": [
        {
          "output_type": "stream",
          "name": "stdout",
          "text": [
            "{'a': 0, 'b': 1}\n",
            "{'c': 2, 'd': 3}\n",
            "{'a': 0, 'b': 1, 'c': 2, 'd': 3}\n"
          ]
        }
      ]
    },
    {
      "cell_type": "code",
      "source": [
        "# Problem 1 - h\n",
        "\n",
        "l = [1,1,2,2,3,2]\n",
        "print(l)\n",
        "l = list(set(l))\n",
        "print(l)"
      ],
      "metadata": {
        "colab": {
          "base_uri": "https://localhost:8080/"
        },
        "id": "X6PRzwbb7xSP",
        "outputId": "d3ea26ef-3459-4c90-c46a-4d20046a5c3e"
      },
      "execution_count": 325,
      "outputs": [
        {
          "output_type": "stream",
          "name": "stdout",
          "text": [
            "[1, 1, 2, 2, 3, 2]\n",
            "[1, 2, 3]\n"
          ]
        }
      ]
    },
    {
      "cell_type": "code",
      "source": [
        "# Problem 1 - i\n",
        "\n",
        "d = {'a':0, 'b':1, 'c':2}\n",
        "k = input(\"Enter Key to Check : \")\n",
        "if(k in d.keys()) : print(\"Yes\")\n",
        "else : print(\"No\")"
      ],
      "metadata": {
        "colab": {
          "base_uri": "https://localhost:8080/"
        },
        "id": "KkCHJ8ym8Ut0",
        "outputId": "e86fc18f-944b-41ad-85f7-c5c20f299940"
      },
      "execution_count": 326,
      "outputs": [
        {
          "output_type": "stream",
          "name": "stdout",
          "text": [
            "Enter Key to Check : c\n",
            "Yes\n"
          ]
        }
      ]
    },
    {
      "cell_type": "markdown",
      "source": [
        "##Problem - 2"
      ],
      "metadata": {
        "id": "MfeM2MBgTBdo"
      }
    },
    {
      "cell_type": "code",
      "source": [
        "import numpy as np\n",
        "\n",
        "M1 = np.array([[1,2,3],\n",
        "               [4,5,6],\n",
        "               [7,8,9]])\n",
        "M2 = np.array([[4,2,0],\n",
        "               [0,6,9],\n",
        "               [9,1,1]])\n",
        "\n",
        "print(\"Matrix 1 :\\n\",M1)\n",
        "print(\"Matrix 2 :\\n\",M2)"
      ],
      "metadata": {
        "id": "Cs0jujQKosKY",
        "colab": {
          "base_uri": "https://localhost:8080/"
        },
        "outputId": "c300c481-4c1e-4a02-ab28-3c3f803c083f"
      },
      "execution_count": 327,
      "outputs": [
        {
          "output_type": "stream",
          "name": "stdout",
          "text": [
            "Matrix 1 :\n",
            " [[1 2 3]\n",
            " [4 5 6]\n",
            " [7 8 9]]\n",
            "Matrix 2 :\n",
            " [[4 2 0]\n",
            " [0 6 9]\n",
            " [9 1 1]]\n"
          ]
        }
      ]
    },
    {
      "cell_type": "code",
      "source": [
        "# Problem 2 - a\n",
        "\n",
        "print(M1[0])"
      ],
      "metadata": {
        "colab": {
          "base_uri": "https://localhost:8080/"
        },
        "id": "hDOjDQ2PYODH",
        "outputId": "8aede0e4-e23b-4ee1-a8a7-c1214d3535c3"
      },
      "execution_count": 328,
      "outputs": [
        {
          "output_type": "stream",
          "name": "stdout",
          "text": [
            "[1 2 3]\n"
          ]
        }
      ]
    },
    {
      "cell_type": "code",
      "source": [
        "# Problem 2 - b\n",
        "\n",
        "print(M2[:,1]) "
      ],
      "metadata": {
        "colab": {
          "base_uri": "https://localhost:8080/"
        },
        "id": "grewRqb2YHDX",
        "outputId": "9546e9b8-837c-4658-c17b-7af6274ecb97"
      },
      "execution_count": 329,
      "outputs": [
        {
          "output_type": "stream",
          "name": "stdout",
          "text": [
            "[2 6 1]\n"
          ]
        }
      ]
    },
    {
      "cell_type": "code",
      "source": [
        "# Problem 2 - c\n",
        "\n",
        "M = np.matmul(M1,M2)\n",
        "print(\"Matrix Multiplication :\\n\",M)"
      ],
      "metadata": {
        "colab": {
          "base_uri": "https://localhost:8080/"
        },
        "id": "DKGclTXVYHkq",
        "outputId": "5e1d317a-cf45-4f13-efd8-c930e5d101c1"
      },
      "execution_count": 330,
      "outputs": [
        {
          "output_type": "stream",
          "name": "stdout",
          "text": [
            "Matrix Multiplication :\n",
            " [[ 31  17  21]\n",
            " [ 70  44  51]\n",
            " [109  71  81]]\n"
          ]
        }
      ]
    },
    {
      "cell_type": "code",
      "source": [
        "# Problem 2 - d\n",
        "\n",
        "M = M1 * M2\n",
        "print(\"Element-Wise Multiplication :\\n\",M)"
      ],
      "metadata": {
        "colab": {
          "base_uri": "https://localhost:8080/"
        },
        "id": "4Iho-MWeYHrH",
        "outputId": "4a429b10-5c25-4236-b443-ec3f2db19c4c"
      },
      "execution_count": 331,
      "outputs": [
        {
          "output_type": "stream",
          "name": "stdout",
          "text": [
            "Element-Wise Multiplication :\n",
            " [[ 4  4  0]\n",
            " [ 0 30 54]\n",
            " [63  8  9]]\n"
          ]
        }
      ]
    },
    {
      "cell_type": "code",
      "source": [
        "# Problem 2 - e\n",
        "\n",
        "r,c = np.shape(M1)\n",
        "\n",
        "for i in np.arange(c) :\n",
        "  for j in np.arange(c) :\n",
        "\n",
        "    m = np.dot(M1[:,i],M2[:,j])\n",
        "    print(f\"Mat-1 Col-{i+1} | Mat-2 Col-{j+1} :\",m)"
      ],
      "metadata": {
        "colab": {
          "base_uri": "https://localhost:8080/"
        },
        "id": "cnNOJv5PYH0x",
        "outputId": "ba27a5f4-14c4-4b7b-a278-0706c7d2cb49"
      },
      "execution_count": 332,
      "outputs": [
        {
          "output_type": "stream",
          "name": "stdout",
          "text": [
            "Mat-1 Col-1 | Mat-2 Col-1 : 67\n",
            "Mat-1 Col-1 | Mat-2 Col-2 : 33\n",
            "Mat-1 Col-1 | Mat-2 Col-3 : 43\n",
            "Mat-1 Col-2 | Mat-2 Col-1 : 80\n",
            "Mat-1 Col-2 | Mat-2 Col-2 : 42\n",
            "Mat-1 Col-2 | Mat-2 Col-3 : 53\n",
            "Mat-1 Col-3 | Mat-2 Col-1 : 93\n",
            "Mat-1 Col-3 | Mat-2 Col-2 : 51\n",
            "Mat-1 Col-3 | Mat-2 Col-3 : 63\n"
          ]
        }
      ]
    },
    {
      "cell_type": "markdown",
      "source": [
        "##Problem - 3"
      ],
      "metadata": {
        "id": "dGVMyCDpiCYs"
      }
    },
    {
      "cell_type": "code",
      "source": [
        "import pandas as pd\n",
        "\n",
        "df = pd.read_csv(path+'Cars93.csv')\n",
        "\n",
        "df.head(3)"
      ],
      "metadata": {
        "id": "8XRIPVs0iFpz",
        "colab": {
          "base_uri": "https://localhost:8080/",
          "height": 260
        },
        "outputId": "ebf01a0f-861d-45d4-d6e2-5d4de98e3fb8"
      },
      "execution_count": 333,
      "outputs": [
        {
          "output_type": "execute_result",
          "data": {
            "text/html": [
              "\n",
              "  <div id=\"df-3bada3af-2b9b-498d-bd96-9f4ef99de426\">\n",
              "    <div class=\"colab-df-container\">\n",
              "      <div>\n",
              "<style scoped>\n",
              "    .dataframe tbody tr th:only-of-type {\n",
              "        vertical-align: middle;\n",
              "    }\n",
              "\n",
              "    .dataframe tbody tr th {\n",
              "        vertical-align: top;\n",
              "    }\n",
              "\n",
              "    .dataframe thead th {\n",
              "        text-align: right;\n",
              "    }\n",
              "</style>\n",
              "<table border=\"1\" class=\"dataframe\">\n",
              "  <thead>\n",
              "    <tr style=\"text-align: right;\">\n",
              "      <th></th>\n",
              "      <th>Manufacturer</th>\n",
              "      <th>Model</th>\n",
              "      <th>Type</th>\n",
              "      <th>Min.Price</th>\n",
              "      <th>Price</th>\n",
              "      <th>Max.Price</th>\n",
              "      <th>MPG.city</th>\n",
              "      <th>MPG.highway</th>\n",
              "      <th>AirBags</th>\n",
              "      <th>DriveTrain</th>\n",
              "      <th>Cylinders</th>\n",
              "      <th>EngineSize</th>\n",
              "      <th>Horsepower</th>\n",
              "      <th>RPM</th>\n",
              "      <th>Rev.per.mile</th>\n",
              "      <th>Man.trans.avail</th>\n",
              "      <th>Fuel.tank.capacity</th>\n",
              "      <th>Passengers</th>\n",
              "      <th>Length</th>\n",
              "      <th>Wheelbase</th>\n",
              "      <th>Width</th>\n",
              "      <th>Turn.circle</th>\n",
              "      <th>Rear.seat.room</th>\n",
              "      <th>Luggage.room</th>\n",
              "      <th>Weight</th>\n",
              "      <th>Origin</th>\n",
              "    </tr>\n",
              "  </thead>\n",
              "  <tbody>\n",
              "    <tr>\n",
              "      <th>0</th>\n",
              "      <td>Acura</td>\n",
              "      <td>Integra</td>\n",
              "      <td>Small</td>\n",
              "      <td>12.9</td>\n",
              "      <td>15.9</td>\n",
              "      <td>18.8</td>\n",
              "      <td>25</td>\n",
              "      <td>31</td>\n",
              "      <td>None</td>\n",
              "      <td>Front</td>\n",
              "      <td>4</td>\n",
              "      <td>1.8</td>\n",
              "      <td>140</td>\n",
              "      <td>6300</td>\n",
              "      <td>2890</td>\n",
              "      <td>Yes</td>\n",
              "      <td>13.2</td>\n",
              "      <td>5</td>\n",
              "      <td>177</td>\n",
              "      <td>102</td>\n",
              "      <td>68</td>\n",
              "      <td>37</td>\n",
              "      <td>26.5</td>\n",
              "      <td>11.0</td>\n",
              "      <td>2705</td>\n",
              "      <td>non-USA</td>\n",
              "    </tr>\n",
              "    <tr>\n",
              "      <th>1</th>\n",
              "      <td>Acura</td>\n",
              "      <td>Legend</td>\n",
              "      <td>Midsize</td>\n",
              "      <td>29.2</td>\n",
              "      <td>33.9</td>\n",
              "      <td>38.7</td>\n",
              "      <td>18</td>\n",
              "      <td>25</td>\n",
              "      <td>Driver &amp; Passenger</td>\n",
              "      <td>Front</td>\n",
              "      <td>6</td>\n",
              "      <td>3.2</td>\n",
              "      <td>200</td>\n",
              "      <td>5500</td>\n",
              "      <td>2335</td>\n",
              "      <td>Yes</td>\n",
              "      <td>18.0</td>\n",
              "      <td>5</td>\n",
              "      <td>195</td>\n",
              "      <td>115</td>\n",
              "      <td>71</td>\n",
              "      <td>38</td>\n",
              "      <td>30.0</td>\n",
              "      <td>15.0</td>\n",
              "      <td>3560</td>\n",
              "      <td>non-USA</td>\n",
              "    </tr>\n",
              "    <tr>\n",
              "      <th>2</th>\n",
              "      <td>Audi</td>\n",
              "      <td>90</td>\n",
              "      <td>Compact</td>\n",
              "      <td>25.9</td>\n",
              "      <td>29.1</td>\n",
              "      <td>32.3</td>\n",
              "      <td>20</td>\n",
              "      <td>26</td>\n",
              "      <td>Driver only</td>\n",
              "      <td>Front</td>\n",
              "      <td>6</td>\n",
              "      <td>2.8</td>\n",
              "      <td>172</td>\n",
              "      <td>5500</td>\n",
              "      <td>2280</td>\n",
              "      <td>Yes</td>\n",
              "      <td>16.9</td>\n",
              "      <td>5</td>\n",
              "      <td>180</td>\n",
              "      <td>102</td>\n",
              "      <td>67</td>\n",
              "      <td>37</td>\n",
              "      <td>28.0</td>\n",
              "      <td>14.0</td>\n",
              "      <td>3375</td>\n",
              "      <td>non-USA</td>\n",
              "    </tr>\n",
              "  </tbody>\n",
              "</table>\n",
              "</div>\n",
              "      <button class=\"colab-df-convert\" onclick=\"convertToInteractive('df-3bada3af-2b9b-498d-bd96-9f4ef99de426')\"\n",
              "              title=\"Convert this dataframe to an interactive table.\"\n",
              "              style=\"display:none;\">\n",
              "        \n",
              "  <svg xmlns=\"http://www.w3.org/2000/svg\" height=\"24px\"viewBox=\"0 0 24 24\"\n",
              "       width=\"24px\">\n",
              "    <path d=\"M0 0h24v24H0V0z\" fill=\"none\"/>\n",
              "    <path d=\"M18.56 5.44l.94 2.06.94-2.06 2.06-.94-2.06-.94-.94-2.06-.94 2.06-2.06.94zm-11 1L8.5 8.5l.94-2.06 2.06-.94-2.06-.94L8.5 2.5l-.94 2.06-2.06.94zm10 10l.94 2.06.94-2.06 2.06-.94-2.06-.94-.94-2.06-.94 2.06-2.06.94z\"/><path d=\"M17.41 7.96l-1.37-1.37c-.4-.4-.92-.59-1.43-.59-.52 0-1.04.2-1.43.59L10.3 9.45l-7.72 7.72c-.78.78-.78 2.05 0 2.83L4 21.41c.39.39.9.59 1.41.59.51 0 1.02-.2 1.41-.59l7.78-7.78 2.81-2.81c.8-.78.8-2.07 0-2.86zM5.41 20L4 18.59l7.72-7.72 1.47 1.35L5.41 20z\"/>\n",
              "  </svg>\n",
              "      </button>\n",
              "      \n",
              "  <style>\n",
              "    .colab-df-container {\n",
              "      display:flex;\n",
              "      flex-wrap:wrap;\n",
              "      gap: 12px;\n",
              "    }\n",
              "\n",
              "    .colab-df-convert {\n",
              "      background-color: #E8F0FE;\n",
              "      border: none;\n",
              "      border-radius: 50%;\n",
              "      cursor: pointer;\n",
              "      display: none;\n",
              "      fill: #1967D2;\n",
              "      height: 32px;\n",
              "      padding: 0 0 0 0;\n",
              "      width: 32px;\n",
              "    }\n",
              "\n",
              "    .colab-df-convert:hover {\n",
              "      background-color: #E2EBFA;\n",
              "      box-shadow: 0px 1px 2px rgba(60, 64, 67, 0.3), 0px 1px 3px 1px rgba(60, 64, 67, 0.15);\n",
              "      fill: #174EA6;\n",
              "    }\n",
              "\n",
              "    [theme=dark] .colab-df-convert {\n",
              "      background-color: #3B4455;\n",
              "      fill: #D2E3FC;\n",
              "    }\n",
              "\n",
              "    [theme=dark] .colab-df-convert:hover {\n",
              "      background-color: #434B5C;\n",
              "      box-shadow: 0px 1px 3px 1px rgba(0, 0, 0, 0.15);\n",
              "      filter: drop-shadow(0px 1px 2px rgba(0, 0, 0, 0.3));\n",
              "      fill: #FFFFFF;\n",
              "    }\n",
              "  </style>\n",
              "\n",
              "      <script>\n",
              "        const buttonEl =\n",
              "          document.querySelector('#df-3bada3af-2b9b-498d-bd96-9f4ef99de426 button.colab-df-convert');\n",
              "        buttonEl.style.display =\n",
              "          google.colab.kernel.accessAllowed ? 'block' : 'none';\n",
              "\n",
              "        async function convertToInteractive(key) {\n",
              "          const element = document.querySelector('#df-3bada3af-2b9b-498d-bd96-9f4ef99de426');\n",
              "          const dataTable =\n",
              "            await google.colab.kernel.invokeFunction('convertToInteractive',\n",
              "                                                     [key], {});\n",
              "          if (!dataTable) return;\n",
              "\n",
              "          const docLinkHtml = 'Like what you see? Visit the ' +\n",
              "            '<a target=\"_blank\" href=https://colab.research.google.com/notebooks/data_table.ipynb>data table notebook</a>'\n",
              "            + ' to learn more about interactive tables.';\n",
              "          element.innerHTML = '';\n",
              "          dataTable['output_type'] = 'display_data';\n",
              "          await google.colab.output.renderOutput(dataTable, element);\n",
              "          const docLink = document.createElement('div');\n",
              "          docLink.innerHTML = docLinkHtml;\n",
              "          element.appendChild(docLink);\n",
              "        }\n",
              "      </script>\n",
              "    </div>\n",
              "  </div>\n",
              "  "
            ],
            "text/plain": [
              "  Manufacturer    Model     Type  ...  Luggage.room  Weight   Origin\n",
              "0        Acura  Integra    Small  ...          11.0    2705  non-USA\n",
              "1        Acura   Legend  Midsize  ...          15.0    3560  non-USA\n",
              "2         Audi       90  Compact  ...          14.0    3375  non-USA\n",
              "\n",
              "[3 rows x 26 columns]"
            ]
          },
          "metadata": {},
          "execution_count": 333
        }
      ]
    },
    {
      "cell_type": "code",
      "source": [
        "# Problem 3 - 1\n",
        "\n",
        "scale = {}\n",
        "\n",
        "scale['Model'] = \"nominal\"          # Clearly nominal\n",
        "scale['Type'] = \"nominal\"           # This can acutally be either nominal or ordinal depending on viewpoint.....in our case we cant rank sporty,large,van,etc. with each other. only small/mid/large could have been ranked \n",
        "scale['Max.Price'] = \"ratio\"        # ratio as negative price dosen't make sense\n",
        "scale['Airbags'] = \"ordinal\"        # Clearly ordinal \n",
        "\n",
        "print(scale)"
      ],
      "metadata": {
        "colab": {
          "base_uri": "https://localhost:8080/"
        },
        "id": "DPwf4BKWxCKY",
        "outputId": "2cd1e32e-756d-4b47-d938-fed64d532de2"
      },
      "execution_count": 334,
      "outputs": [
        {
          "output_type": "stream",
          "name": "stdout",
          "text": [
            "{'Model': 'nominal', 'Type': 'nominal', 'Max.Price': 'ratio', 'Airbags': 'ordinal'}\n"
          ]
        }
      ]
    },
    {
      "cell_type": "code",
      "source": [
        "# Problem 3 - 2\n",
        "\n",
        "def remove_missing(df) : \n",
        "  remove = []\n",
        "  for i, row in df.iterrows():\n",
        "    if row.isna().values.any() : remove.append(i)\n",
        "  df.drop(remove,axis=0,inplace=True)\n",
        "\n",
        "print(\"Number of Rows Before :\",df.shape[0])\n",
        "\n",
        "remove_missing(df)\n",
        "\n",
        "print(\"Number of Rows After  :\",df.shape[0])"
      ],
      "metadata": {
        "colab": {
          "base_uri": "https://localhost:8080/"
        },
        "id": "dypyXqlcx0ko",
        "outputId": "4699aa3e-28f5-4042-d66f-94c8fd63af48"
      },
      "execution_count": 335,
      "outputs": [
        {
          "output_type": "stream",
          "name": "stdout",
          "text": [
            "Number of Rows Before : 93\n",
            "Number of Rows After  : 82\n"
          ]
        }
      ]
    },
    {
      "cell_type": "code",
      "source": [
        "# Problem 3 - 3\n",
        "\n",
        "def remove_mismatch(df) : \n",
        "  for col in df : \n",
        "    df.reset_index(drop=True, inplace=True)\n",
        "    s = [False]*len(df[col])\n",
        "    for i,cell in enumerate(df[col]) : \n",
        "      try : n = int(cell)\n",
        "      except : s[i] = True\n",
        "    t = s.count(True)\n",
        "    f = s.count(False)\n",
        "    st = False\n",
        "    if(t>f) : st = True\n",
        "    remove = [i for i in range(len(df[col])) if s[i]!=st]\n",
        "    df.drop(remove,axis=0,inplace=True)\n",
        "      \n",
        "print(\"Number of Rows Before :\",df.shape[0])\n",
        "\n",
        "remove_mismatch(df)\n",
        "\n",
        "print(\"Number of Rows After  :\",df.shape[0])"
      ],
      "metadata": {
        "id": "A9de0EJAkYvR",
        "colab": {
          "base_uri": "https://localhost:8080/"
        },
        "outputId": "95782e7a-8665-4882-8fd1-a087f1ced4ae"
      },
      "execution_count": 336,
      "outputs": [
        {
          "output_type": "stream",
          "name": "stdout",
          "text": [
            "Number of Rows Before : 82\n",
            "Number of Rows After  : 75\n"
          ]
        }
      ]
    },
    {
      "cell_type": "code",
      "source": [
        "# Problem 3 - 4\n",
        "\n",
        "\n",
        "# Encode Label (ordinal type) for 1 column\n",
        "def encode_label(df,col,order) : \n",
        "  for i,cell in enumerate(df[col]) : \n",
        "    try : \n",
        "      df.at[i,col] = order.index(df[col][i])\n",
        "    except : \n",
        "      df.at[i,col] = -1\n",
        "\n",
        "# Encode Label (ordinal type) for multiple columns  \n",
        "def encode_labels(df,cols) : \n",
        "  for col in cols.keys() : \n",
        "    encode_label(df,col,cols[col])\n",
        "\n",
        "# Encode One Hot (nominal type) for 1 column\n",
        "def encode_onehot(df,col) :\n",
        "  k = {}\n",
        "  n = df[col].shape[0]\n",
        "  unique = df[col].unique()\n",
        "  for unq in unique : k[unq] = [0]*n\n",
        "  for i in range(n) :\n",
        "    k[df.at[i,col]][i] = 1\n",
        "  for unq in unique : df[unq] = k[unq] \n",
        "  df.drop(col,1,inplace=True)\n",
        "\n",
        "# Encode One Hot (nominal type) for multiple columns\n",
        "def encode_onehots(df,cols) :\n",
        "  for col in cols : encode_onehot(df,col)\n",
        "\n",
        "# Encode both types (if value of dict[column] is None then nominal \n",
        "# otherwise ordinal type) for multiple columns\n",
        "def encode(df,cols) : \n",
        "  for col in cols.keys() : \n",
        "    if(cols[col] is None) : encode_onehot(df,col)\n",
        "    else : encode_label(df,col,cols[col])\n",
        "\n",
        "labels = {}\n",
        "labels['AirBags'] = ['None','Driver only','Driver & Passenger']\n",
        "labels['DriveTrain'] = ['Front','Rear','4WD']\n",
        "labels['Man.trans.avail'] = ['No','Yes']\n",
        "labels['Origin'] = ['non-USA','USA']\n",
        "labels['Type'] = None\n",
        "\n",
        "print(\"Shape Before :\",df.shape)\n",
        "\n",
        "# Not Encoding Manufacturer & Model as it as lot of unique attributes \n",
        "# and hot encoding them might supress weightage of actual car specification \n",
        "# and will also lead to over-fitting based on just car mode and manufacturer\n",
        "\n",
        "encode(df,labels)\n",
        "\n",
        "print(\"Shape After  :\",df.shape)\n",
        "\n",
        "df.head(3)"
      ],
      "metadata": {
        "colab": {
          "base_uri": "https://localhost:8080/",
          "height": 242
        },
        "id": "-r5AGvz59xJS",
        "outputId": "8688e5e9-5147-4d92-876e-a712da590ba9"
      },
      "execution_count": 337,
      "outputs": [
        {
          "output_type": "stream",
          "name": "stdout",
          "text": [
            "Shape Before : (75, 26)\n",
            "Shape After  : (75, 30)\n"
          ]
        },
        {
          "output_type": "execute_result",
          "data": {
            "text/html": [
              "\n",
              "  <div id=\"df-4ea25640-a3ba-4cb8-9e49-e105d2b5ee28\">\n",
              "    <div class=\"colab-df-container\">\n",
              "      <div>\n",
              "<style scoped>\n",
              "    .dataframe tbody tr th:only-of-type {\n",
              "        vertical-align: middle;\n",
              "    }\n",
              "\n",
              "    .dataframe tbody tr th {\n",
              "        vertical-align: top;\n",
              "    }\n",
              "\n",
              "    .dataframe thead th {\n",
              "        text-align: right;\n",
              "    }\n",
              "</style>\n",
              "<table border=\"1\" class=\"dataframe\">\n",
              "  <thead>\n",
              "    <tr style=\"text-align: right;\">\n",
              "      <th></th>\n",
              "      <th>Manufacturer</th>\n",
              "      <th>Model</th>\n",
              "      <th>Min.Price</th>\n",
              "      <th>Price</th>\n",
              "      <th>Max.Price</th>\n",
              "      <th>MPG.city</th>\n",
              "      <th>MPG.highway</th>\n",
              "      <th>AirBags</th>\n",
              "      <th>DriveTrain</th>\n",
              "      <th>Cylinders</th>\n",
              "      <th>EngineSize</th>\n",
              "      <th>Horsepower</th>\n",
              "      <th>RPM</th>\n",
              "      <th>Rev.per.mile</th>\n",
              "      <th>Man.trans.avail</th>\n",
              "      <th>Fuel.tank.capacity</th>\n",
              "      <th>Passengers</th>\n",
              "      <th>Length</th>\n",
              "      <th>Wheelbase</th>\n",
              "      <th>Width</th>\n",
              "      <th>Turn.circle</th>\n",
              "      <th>Rear.seat.room</th>\n",
              "      <th>Luggage.room</th>\n",
              "      <th>Weight</th>\n",
              "      <th>Origin</th>\n",
              "      <th>Small</th>\n",
              "      <th>Midsize</th>\n",
              "      <th>Large</th>\n",
              "      <th>Compact</th>\n",
              "      <th>Sporty</th>\n",
              "    </tr>\n",
              "  </thead>\n",
              "  <tbody>\n",
              "    <tr>\n",
              "      <th>0</th>\n",
              "      <td>Acura</td>\n",
              "      <td>Integra</td>\n",
              "      <td>12.9</td>\n",
              "      <td>15.9</td>\n",
              "      <td>18.8</td>\n",
              "      <td>25</td>\n",
              "      <td>31</td>\n",
              "      <td>0</td>\n",
              "      <td>0</td>\n",
              "      <td>4</td>\n",
              "      <td>1.8</td>\n",
              "      <td>140</td>\n",
              "      <td>6300</td>\n",
              "      <td>2890</td>\n",
              "      <td>1</td>\n",
              "      <td>13.2</td>\n",
              "      <td>5</td>\n",
              "      <td>177</td>\n",
              "      <td>102</td>\n",
              "      <td>68</td>\n",
              "      <td>37</td>\n",
              "      <td>26.5</td>\n",
              "      <td>11.0</td>\n",
              "      <td>2705</td>\n",
              "      <td>0</td>\n",
              "      <td>1</td>\n",
              "      <td>0</td>\n",
              "      <td>0</td>\n",
              "      <td>0</td>\n",
              "      <td>0</td>\n",
              "    </tr>\n",
              "    <tr>\n",
              "      <th>1</th>\n",
              "      <td>Acura</td>\n",
              "      <td>Legend</td>\n",
              "      <td>29.2</td>\n",
              "      <td>33.9</td>\n",
              "      <td>38.7</td>\n",
              "      <td>18</td>\n",
              "      <td>25</td>\n",
              "      <td>2</td>\n",
              "      <td>0</td>\n",
              "      <td>6</td>\n",
              "      <td>3.2</td>\n",
              "      <td>200</td>\n",
              "      <td>5500</td>\n",
              "      <td>2335</td>\n",
              "      <td>1</td>\n",
              "      <td>18.0</td>\n",
              "      <td>5</td>\n",
              "      <td>195</td>\n",
              "      <td>115</td>\n",
              "      <td>71</td>\n",
              "      <td>38</td>\n",
              "      <td>30.0</td>\n",
              "      <td>15.0</td>\n",
              "      <td>3560</td>\n",
              "      <td>0</td>\n",
              "      <td>0</td>\n",
              "      <td>1</td>\n",
              "      <td>0</td>\n",
              "      <td>0</td>\n",
              "      <td>0</td>\n",
              "    </tr>\n",
              "    <tr>\n",
              "      <th>2</th>\n",
              "      <td>BMW</td>\n",
              "      <td>535i</td>\n",
              "      <td>23.7</td>\n",
              "      <td>30.0</td>\n",
              "      <td>36.2</td>\n",
              "      <td>22</td>\n",
              "      <td>30</td>\n",
              "      <td>1</td>\n",
              "      <td>1</td>\n",
              "      <td>4</td>\n",
              "      <td>3.5</td>\n",
              "      <td>208</td>\n",
              "      <td>5700</td>\n",
              "      <td>2545</td>\n",
              "      <td>1</td>\n",
              "      <td>21.1</td>\n",
              "      <td>4</td>\n",
              "      <td>186</td>\n",
              "      <td>109</td>\n",
              "      <td>69</td>\n",
              "      <td>39</td>\n",
              "      <td>27.0</td>\n",
              "      <td>13.0</td>\n",
              "      <td>3640</td>\n",
              "      <td>0</td>\n",
              "      <td>0</td>\n",
              "      <td>1</td>\n",
              "      <td>0</td>\n",
              "      <td>0</td>\n",
              "      <td>0</td>\n",
              "    </tr>\n",
              "  </tbody>\n",
              "</table>\n",
              "</div>\n",
              "      <button class=\"colab-df-convert\" onclick=\"convertToInteractive('df-4ea25640-a3ba-4cb8-9e49-e105d2b5ee28')\"\n",
              "              title=\"Convert this dataframe to an interactive table.\"\n",
              "              style=\"display:none;\">\n",
              "        \n",
              "  <svg xmlns=\"http://www.w3.org/2000/svg\" height=\"24px\"viewBox=\"0 0 24 24\"\n",
              "       width=\"24px\">\n",
              "    <path d=\"M0 0h24v24H0V0z\" fill=\"none\"/>\n",
              "    <path d=\"M18.56 5.44l.94 2.06.94-2.06 2.06-.94-2.06-.94-.94-2.06-.94 2.06-2.06.94zm-11 1L8.5 8.5l.94-2.06 2.06-.94-2.06-.94L8.5 2.5l-.94 2.06-2.06.94zm10 10l.94 2.06.94-2.06 2.06-.94-2.06-.94-.94-2.06-.94 2.06-2.06.94z\"/><path d=\"M17.41 7.96l-1.37-1.37c-.4-.4-.92-.59-1.43-.59-.52 0-1.04.2-1.43.59L10.3 9.45l-7.72 7.72c-.78.78-.78 2.05 0 2.83L4 21.41c.39.39.9.59 1.41.59.51 0 1.02-.2 1.41-.59l7.78-7.78 2.81-2.81c.8-.78.8-2.07 0-2.86zM5.41 20L4 18.59l7.72-7.72 1.47 1.35L5.41 20z\"/>\n",
              "  </svg>\n",
              "      </button>\n",
              "      \n",
              "  <style>\n",
              "    .colab-df-container {\n",
              "      display:flex;\n",
              "      flex-wrap:wrap;\n",
              "      gap: 12px;\n",
              "    }\n",
              "\n",
              "    .colab-df-convert {\n",
              "      background-color: #E8F0FE;\n",
              "      border: none;\n",
              "      border-radius: 50%;\n",
              "      cursor: pointer;\n",
              "      display: none;\n",
              "      fill: #1967D2;\n",
              "      height: 32px;\n",
              "      padding: 0 0 0 0;\n",
              "      width: 32px;\n",
              "    }\n",
              "\n",
              "    .colab-df-convert:hover {\n",
              "      background-color: #E2EBFA;\n",
              "      box-shadow: 0px 1px 2px rgba(60, 64, 67, 0.3), 0px 1px 3px 1px rgba(60, 64, 67, 0.15);\n",
              "      fill: #174EA6;\n",
              "    }\n",
              "\n",
              "    [theme=dark] .colab-df-convert {\n",
              "      background-color: #3B4455;\n",
              "      fill: #D2E3FC;\n",
              "    }\n",
              "\n",
              "    [theme=dark] .colab-df-convert:hover {\n",
              "      background-color: #434B5C;\n",
              "      box-shadow: 0px 1px 3px 1px rgba(0, 0, 0, 0.15);\n",
              "      filter: drop-shadow(0px 1px 2px rgba(0, 0, 0, 0.3));\n",
              "      fill: #FFFFFF;\n",
              "    }\n",
              "  </style>\n",
              "\n",
              "      <script>\n",
              "        const buttonEl =\n",
              "          document.querySelector('#df-4ea25640-a3ba-4cb8-9e49-e105d2b5ee28 button.colab-df-convert');\n",
              "        buttonEl.style.display =\n",
              "          google.colab.kernel.accessAllowed ? 'block' : 'none';\n",
              "\n",
              "        async function convertToInteractive(key) {\n",
              "          const element = document.querySelector('#df-4ea25640-a3ba-4cb8-9e49-e105d2b5ee28');\n",
              "          const dataTable =\n",
              "            await google.colab.kernel.invokeFunction('convertToInteractive',\n",
              "                                                     [key], {});\n",
              "          if (!dataTable) return;\n",
              "\n",
              "          const docLinkHtml = 'Like what you see? Visit the ' +\n",
              "            '<a target=\"_blank\" href=https://colab.research.google.com/notebooks/data_table.ipynb>data table notebook</a>'\n",
              "            + ' to learn more about interactive tables.';\n",
              "          element.innerHTML = '';\n",
              "          dataTable['output_type'] = 'display_data';\n",
              "          await google.colab.output.renderOutput(dataTable, element);\n",
              "          const docLink = document.createElement('div');\n",
              "          docLink.innerHTML = docLinkHtml;\n",
              "          element.appendChild(docLink);\n",
              "        }\n",
              "      </script>\n",
              "    </div>\n",
              "  </div>\n",
              "  "
            ],
            "text/plain": [
              "  Manufacturer    Model  Min.Price  Price  ...  Midsize  Large  Compact Sporty\n",
              "0        Acura  Integra       12.9   15.9  ...        0      0        0      0\n",
              "1        Acura   Legend       29.2   33.9  ...        1      0        0      0\n",
              "2          BMW     535i       23.7   30.0  ...        1      0        0      0\n",
              "\n",
              "[3 rows x 30 columns]"
            ]
          },
          "metadata": {},
          "execution_count": 337
        }
      ]
    },
    {
      "cell_type": "code",
      "source": [
        "# Problem 3 - 5\n",
        "\n",
        "\n",
        "# convert to ints or floats if saved as str \n",
        "def str_to_num(df) : \n",
        "  for col in df : \n",
        "    try : df[col] = pd.to_numeric(df[col])\n",
        "    except : pass\n",
        "\n",
        "# Dividing by largest\n",
        "def normalize_dbl(df,cols,round=None) : \n",
        "  if(type(cols)!=list) : cols = [cols]\n",
        "  for col in cols : \n",
        "    l = max(df[col])\n",
        "    if round is None : df[col] = df[col].div(l)\n",
        "    else : df[col] = df[col].div(l).round(round)\n",
        "\n",
        "# Dividing by constant\n",
        "def normalize_dbc(df,cols,round=None,c=1) :\n",
        "  if(type(cols)!=list) : cols = [cols]\n",
        "  for col in cols : \n",
        "    if round is None : df[col] = df[col].div(l)\n",
        "    else : df[col] = df[col].div(c).round(round)\n",
        "\n",
        "# Dividing by constant x largest\n",
        "def normalize_dblc(df,cols,round=None,c=1) :\n",
        "  if(type(cols)!=list) : cols = [cols]\n",
        "  for col in cols : \n",
        "    l = max(df[col]) * c\n",
        "    if round is None : df[col] = df[col].div(l)\n",
        "    else : df[col] = df[col].div(l).round(round)\n",
        "\n",
        "# min-max normalization\n",
        "def normalize_rescale(df,cols,round=None) :\n",
        "  if(type(cols)!=list) : cols = [cols]\n",
        "  for col in cols : \n",
        "    l = max(df[col])\n",
        "    m = min(df[col])\n",
        "    df[col] = df[col] - m\n",
        "    l = l - m\n",
        "    if round is None : df[col] = df[col].div(l)\n",
        "    else : df[col] = df[col].div(l).round(round)\n",
        "\n",
        "# mean normalization\n",
        "def normalize_mean(df,cols,round=None) :\n",
        "  if(type(cols)!=list) : cols = [cols]\n",
        "  for col in cols : \n",
        "    l = max(df[col])\n",
        "    m = min(df[col])\n",
        "    mean = df[col].sum()\n",
        "    n = df[col].shape[0]\n",
        "    mean = mean/n\n",
        "    l = l - m\n",
        "    for i in range(n) : df.at[i,col] = df.at[i,col] - mean\n",
        "    if round is None : df[col] = df[col].div(l)\n",
        "    else : df[col] = df[col].div(l).round(round)\n",
        "\n",
        "# Combining above normalization functions\n",
        "def normalize(df,cols=None,kinds=None,round=None,c=1) :\n",
        "  if(cols is None) : \n",
        "    cols = []\n",
        "    for col in df : \n",
        "      if(pd.api.types.is_numeric_dtype(df[col])) : \n",
        "        if(max(df[col])>1 or min(df[col])<-1) : cols.append(col)\n",
        "  if(type(cols)!=list) : cols = [cols]\n",
        "  n = len(cols)\n",
        "  if(kinds is None) : kinds = 'dbl'\n",
        "  if(type(kinds)!=list) : kinds = [kinds]*n\n",
        "  for i,kind in enumerate(kinds) : \n",
        "    if(kind=='dbl') : normalize_dbl(df,cols[i],round)\n",
        "    if(kind=='dbc') : normalize_dbc(df,cols[i],round,c)\n",
        "    if(kind=='dblc') : normalize_dblc(df,cols[i],round,c)\n",
        "    if(kind in ['min-max','rescale','scale']) : normalize_rescale(df,cols[i],round)\n",
        "    if(kind=='mean') : normalize_mean(df,cols[i],round)\n",
        "\n",
        "str_to_num(df)\n",
        "normalize(df,['Min.Price','Price','Max.Price'],'dbc',round=4,c=max(df['Max.Price'])) \n",
        "normalize(df)\n",
        "\n",
        "df.head(3)"
      ],
      "metadata": {
        "colab": {
          "base_uri": "https://localhost:8080/",
          "height": 207
        },
        "id": "nOd3Zccb9ztO",
        "outputId": "1b4c4cd5-388f-41a5-8b4a-05c432d8eec7"
      },
      "execution_count": 338,
      "outputs": [
        {
          "output_type": "execute_result",
          "data": {
            "text/html": [
              "\n",
              "  <div id=\"df-49fd6abe-73ab-43c4-a8ff-cd194d1b6991\">\n",
              "    <div class=\"colab-df-container\">\n",
              "      <div>\n",
              "<style scoped>\n",
              "    .dataframe tbody tr th:only-of-type {\n",
              "        vertical-align: middle;\n",
              "    }\n",
              "\n",
              "    .dataframe tbody tr th {\n",
              "        vertical-align: top;\n",
              "    }\n",
              "\n",
              "    .dataframe thead th {\n",
              "        text-align: right;\n",
              "    }\n",
              "</style>\n",
              "<table border=\"1\" class=\"dataframe\">\n",
              "  <thead>\n",
              "    <tr style=\"text-align: right;\">\n",
              "      <th></th>\n",
              "      <th>Manufacturer</th>\n",
              "      <th>Model</th>\n",
              "      <th>Min.Price</th>\n",
              "      <th>Price</th>\n",
              "      <th>Max.Price</th>\n",
              "      <th>MPG.city</th>\n",
              "      <th>MPG.highway</th>\n",
              "      <th>AirBags</th>\n",
              "      <th>DriveTrain</th>\n",
              "      <th>Cylinders</th>\n",
              "      <th>EngineSize</th>\n",
              "      <th>Horsepower</th>\n",
              "      <th>RPM</th>\n",
              "      <th>Rev.per.mile</th>\n",
              "      <th>Man.trans.avail</th>\n",
              "      <th>Fuel.tank.capacity</th>\n",
              "      <th>Passengers</th>\n",
              "      <th>Length</th>\n",
              "      <th>Wheelbase</th>\n",
              "      <th>Width</th>\n",
              "      <th>Turn.circle</th>\n",
              "      <th>Rear.seat.room</th>\n",
              "      <th>Luggage.room</th>\n",
              "      <th>Weight</th>\n",
              "      <th>Origin</th>\n",
              "      <th>Small</th>\n",
              "      <th>Midsize</th>\n",
              "      <th>Large</th>\n",
              "      <th>Compact</th>\n",
              "      <th>Sporty</th>\n",
              "    </tr>\n",
              "  </thead>\n",
              "  <tbody>\n",
              "    <tr>\n",
              "      <th>0</th>\n",
              "      <td>Acura</td>\n",
              "      <td>Integra</td>\n",
              "      <td>0.1612</td>\n",
              "      <td>0.1988</td>\n",
              "      <td>0.2350</td>\n",
              "      <td>0.543478</td>\n",
              "      <td>0.62</td>\n",
              "      <td>0.0</td>\n",
              "      <td>0.0</td>\n",
              "      <td>0.50</td>\n",
              "      <td>0.315789</td>\n",
              "      <td>0.466667</td>\n",
              "      <td>0.969231</td>\n",
              "      <td>0.769640</td>\n",
              "      <td>1</td>\n",
              "      <td>0.573913</td>\n",
              "      <td>0.833333</td>\n",
              "      <td>0.808219</td>\n",
              "      <td>0.871795</td>\n",
              "      <td>0.871795</td>\n",
              "      <td>0.822222</td>\n",
              "      <td>0.736111</td>\n",
              "      <td>0.500000</td>\n",
              "      <td>0.658952</td>\n",
              "      <td>0</td>\n",
              "      <td>1</td>\n",
              "      <td>0</td>\n",
              "      <td>0</td>\n",
              "      <td>0</td>\n",
              "      <td>0</td>\n",
              "    </tr>\n",
              "    <tr>\n",
              "      <th>1</th>\n",
              "      <td>Acura</td>\n",
              "      <td>Legend</td>\n",
              "      <td>0.3650</td>\n",
              "      <td>0.4238</td>\n",
              "      <td>0.4838</td>\n",
              "      <td>0.391304</td>\n",
              "      <td>0.50</td>\n",
              "      <td>1.0</td>\n",
              "      <td>0.0</td>\n",
              "      <td>0.75</td>\n",
              "      <td>0.561404</td>\n",
              "      <td>0.666667</td>\n",
              "      <td>0.846154</td>\n",
              "      <td>0.621838</td>\n",
              "      <td>1</td>\n",
              "      <td>0.782609</td>\n",
              "      <td>0.833333</td>\n",
              "      <td>0.890411</td>\n",
              "      <td>0.982906</td>\n",
              "      <td>0.910256</td>\n",
              "      <td>0.844444</td>\n",
              "      <td>0.833333</td>\n",
              "      <td>0.681818</td>\n",
              "      <td>0.867235</td>\n",
              "      <td>0</td>\n",
              "      <td>0</td>\n",
              "      <td>1</td>\n",
              "      <td>0</td>\n",
              "      <td>0</td>\n",
              "      <td>0</td>\n",
              "    </tr>\n",
              "    <tr>\n",
              "      <th>2</th>\n",
              "      <td>BMW</td>\n",
              "      <td>535i</td>\n",
              "      <td>0.2962</td>\n",
              "      <td>0.3750</td>\n",
              "      <td>0.4525</td>\n",
              "      <td>0.478261</td>\n",
              "      <td>0.60</td>\n",
              "      <td>0.5</td>\n",
              "      <td>0.5</td>\n",
              "      <td>0.50</td>\n",
              "      <td>0.614035</td>\n",
              "      <td>0.693333</td>\n",
              "      <td>0.876923</td>\n",
              "      <td>0.677763</td>\n",
              "      <td>1</td>\n",
              "      <td>0.917391</td>\n",
              "      <td>0.666667</td>\n",
              "      <td>0.849315</td>\n",
              "      <td>0.931624</td>\n",
              "      <td>0.884615</td>\n",
              "      <td>0.866667</td>\n",
              "      <td>0.750000</td>\n",
              "      <td>0.590909</td>\n",
              "      <td>0.886724</td>\n",
              "      <td>0</td>\n",
              "      <td>0</td>\n",
              "      <td>1</td>\n",
              "      <td>0</td>\n",
              "      <td>0</td>\n",
              "      <td>0</td>\n",
              "    </tr>\n",
              "  </tbody>\n",
              "</table>\n",
              "</div>\n",
              "      <button class=\"colab-df-convert\" onclick=\"convertToInteractive('df-49fd6abe-73ab-43c4-a8ff-cd194d1b6991')\"\n",
              "              title=\"Convert this dataframe to an interactive table.\"\n",
              "              style=\"display:none;\">\n",
              "        \n",
              "  <svg xmlns=\"http://www.w3.org/2000/svg\" height=\"24px\"viewBox=\"0 0 24 24\"\n",
              "       width=\"24px\">\n",
              "    <path d=\"M0 0h24v24H0V0z\" fill=\"none\"/>\n",
              "    <path d=\"M18.56 5.44l.94 2.06.94-2.06 2.06-.94-2.06-.94-.94-2.06-.94 2.06-2.06.94zm-11 1L8.5 8.5l.94-2.06 2.06-.94-2.06-.94L8.5 2.5l-.94 2.06-2.06.94zm10 10l.94 2.06.94-2.06 2.06-.94-2.06-.94-.94-2.06-.94 2.06-2.06.94z\"/><path d=\"M17.41 7.96l-1.37-1.37c-.4-.4-.92-.59-1.43-.59-.52 0-1.04.2-1.43.59L10.3 9.45l-7.72 7.72c-.78.78-.78 2.05 0 2.83L4 21.41c.39.39.9.59 1.41.59.51 0 1.02-.2 1.41-.59l7.78-7.78 2.81-2.81c.8-.78.8-2.07 0-2.86zM5.41 20L4 18.59l7.72-7.72 1.47 1.35L5.41 20z\"/>\n",
              "  </svg>\n",
              "      </button>\n",
              "      \n",
              "  <style>\n",
              "    .colab-df-container {\n",
              "      display:flex;\n",
              "      flex-wrap:wrap;\n",
              "      gap: 12px;\n",
              "    }\n",
              "\n",
              "    .colab-df-convert {\n",
              "      background-color: #E8F0FE;\n",
              "      border: none;\n",
              "      border-radius: 50%;\n",
              "      cursor: pointer;\n",
              "      display: none;\n",
              "      fill: #1967D2;\n",
              "      height: 32px;\n",
              "      padding: 0 0 0 0;\n",
              "      width: 32px;\n",
              "    }\n",
              "\n",
              "    .colab-df-convert:hover {\n",
              "      background-color: #E2EBFA;\n",
              "      box-shadow: 0px 1px 2px rgba(60, 64, 67, 0.3), 0px 1px 3px 1px rgba(60, 64, 67, 0.15);\n",
              "      fill: #174EA6;\n",
              "    }\n",
              "\n",
              "    [theme=dark] .colab-df-convert {\n",
              "      background-color: #3B4455;\n",
              "      fill: #D2E3FC;\n",
              "    }\n",
              "\n",
              "    [theme=dark] .colab-df-convert:hover {\n",
              "      background-color: #434B5C;\n",
              "      box-shadow: 0px 1px 3px 1px rgba(0, 0, 0, 0.15);\n",
              "      filter: drop-shadow(0px 1px 2px rgba(0, 0, 0, 0.3));\n",
              "      fill: #FFFFFF;\n",
              "    }\n",
              "  </style>\n",
              "\n",
              "      <script>\n",
              "        const buttonEl =\n",
              "          document.querySelector('#df-49fd6abe-73ab-43c4-a8ff-cd194d1b6991 button.colab-df-convert');\n",
              "        buttonEl.style.display =\n",
              "          google.colab.kernel.accessAllowed ? 'block' : 'none';\n",
              "\n",
              "        async function convertToInteractive(key) {\n",
              "          const element = document.querySelector('#df-49fd6abe-73ab-43c4-a8ff-cd194d1b6991');\n",
              "          const dataTable =\n",
              "            await google.colab.kernel.invokeFunction('convertToInteractive',\n",
              "                                                     [key], {});\n",
              "          if (!dataTable) return;\n",
              "\n",
              "          const docLinkHtml = 'Like what you see? Visit the ' +\n",
              "            '<a target=\"_blank\" href=https://colab.research.google.com/notebooks/data_table.ipynb>data table notebook</a>'\n",
              "            + ' to learn more about interactive tables.';\n",
              "          element.innerHTML = '';\n",
              "          dataTable['output_type'] = 'display_data';\n",
              "          await google.colab.output.renderOutput(dataTable, element);\n",
              "          const docLink = document.createElement('div');\n",
              "          docLink.innerHTML = docLinkHtml;\n",
              "          element.appendChild(docLink);\n",
              "        }\n",
              "      </script>\n",
              "    </div>\n",
              "  </div>\n",
              "  "
            ],
            "text/plain": [
              "  Manufacturer    Model  Min.Price   Price  ...  Midsize  Large  Compact  Sporty\n",
              "0        Acura  Integra     0.1612  0.1988  ...        0      0        0       0\n",
              "1        Acura   Legend     0.3650  0.4238  ...        1      0        0       0\n",
              "2          BMW     535i     0.2962  0.3750  ...        1      0        0       0\n",
              "\n",
              "[3 rows x 30 columns]"
            ]
          },
          "metadata": {},
          "execution_count": 338
        }
      ]
    },
    {
      "cell_type": "code",
      "source": [
        "# Problem 3 - 6\n",
        "\n",
        "from sklearn.model_selection import train_test_split\n",
        "\n",
        "x = df.copy()\n",
        "x.drop(['Price','Manufacturer','Model'], axis=1, inplace=True)\n",
        "y = df.loc[:,'Price']\n",
        "\n",
        "def train_val_test(x,y,train_size=-1,val_size=-1,test_size=-1) : \n",
        "\n",
        "  if(train_size==-1) : train_size = 1-val_size-test_size\n",
        "  if(val_size==-1) : test_size = 1-train_size-test_size\n",
        "\n",
        "  x_train,x_val,y_train,y_val = train_test_split(x,y,train_size=train_size,random_state=42)\n",
        "\n",
        "  x_val,x_test,y_val,y_test = train_test_split(x_val,y_val,train_size=(test_size/(1-train_size)),random_state=42)\n",
        "\n",
        "  return x_train,x_val,x_test,y_train,y_val,y_test\n",
        "\n",
        "x_train,x_val,x_test,y_train,y_val,y_test = train_val_test(x,y,train_size=0.7,test_size=0.1)  \n",
        "\n",
        "print(\"Training Data   :\",x_train.shape)\n",
        "print(\"Validation Data :\",x_val.shape)\n",
        "print(\"Test Data       :\",x_test.shape)"
      ],
      "metadata": {
        "id": "t47_JinK90g-",
        "colab": {
          "base_uri": "https://localhost:8080/"
        },
        "outputId": "15d249fa-8a36-451f-82c1-702e9096eb11"
      },
      "execution_count": 339,
      "outputs": [
        {
          "output_type": "stream",
          "name": "stdout",
          "text": [
            "Training Data   : (52, 27)\n",
            "Validation Data : (15, 27)\n",
            "Test Data       : (8, 27)\n"
          ]
        }
      ]
    },
    {
      "cell_type": "markdown",
      "source": [
        "##Problem - 4\n",
        "\n"
      ],
      "metadata": {
        "id": "HtYHEgD5rytS"
      }
    },
    {
      "cell_type": "code",
      "source": [
        "from matplotlib import pyplot as plt"
      ],
      "metadata": {
        "id": "0imzrK0dr2Co"
      },
      "execution_count": 340,
      "outputs": []
    },
    {
      "cell_type": "code",
      "source": [
        "# Problem 4 - a\n",
        "\n",
        "x = np.linspace(-10,10,1000)\n",
        "y = 5*x + 4\n",
        "plt.title(\"y = 5x + 4\")\n",
        "plt.plot(x,y)"
      ],
      "metadata": {
        "colab": {
          "base_uri": "https://localhost:8080/",
          "height": 298
        },
        "id": "xbhYk6djswAR",
        "outputId": "6cb314b1-0d45-4692-dcd4-4cd0552c1490"
      },
      "execution_count": 341,
      "outputs": [
        {
          "output_type": "execute_result",
          "data": {
            "text/plain": [
              "[<matplotlib.lines.Line2D at 0x7f6afc541ed0>]"
            ]
          },
          "metadata": {},
          "execution_count": 341
        },
        {
          "output_type": "display_data",
          "data": {
            "image/png": "[encoded data removed]",
            "text/plain": [
              "<Figure size 432x288 with 1 Axes>"
            ]
          },
          "metadata": {
            "needs_background": "light"
          }
        }
      ]
    },
    {
      "cell_type": "code",
      "source": [
        "# Problem 4 - b\n",
        "\n",
        "x = np.linspace(10,100,1000,endpoint=False)\n",
        "y = np.log(x)\n",
        "plt.title(\"y = ln(x)\")\n",
        "plt.plot(x,y)"
      ],
      "metadata": {
        "colab": {
          "base_uri": "https://localhost:8080/",
          "height": 298
        },
        "id": "a35NTjmF4n-V",
        "outputId": "50934ca0-c2ff-4d35-91e3-01ffa9d20911"
      },
      "execution_count": 342,
      "outputs": [
        {
          "output_type": "execute_result",
          "data": {
            "text/plain": [
              "[<matplotlib.lines.Line2D at 0x7f6afc0392d0>]"
            ]
          },
          "metadata": {},
          "execution_count": 342
        },
        {
          "output_type": "display_data",
          "data": {
            "image/png": "[encoded data removed]",
            "text/plain": [
              "<Figure size 432x288 with 1 Axes>"
            ]
          },
          "metadata": {
            "needs_background": "light"
          }
        }
      ]
    },
    {
      "cell_type": "code",
      "source": [
        "# Problem 4 - c\n",
        "\n",
        "x = np.linspace(-10,10,1000)\n",
        "y = x**2\n",
        "plt.title(\"y = x^2\")\n",
        "plt.plot(x,y)"
      ],
      "metadata": {
        "colab": {
          "base_uri": "https://localhost:8080/",
          "height": 298
        },
        "id": "pT82QqhB5N2I",
        "outputId": "84891c7f-552a-45c4-fa41-a96917c40aaa"
      },
      "execution_count": 343,
      "outputs": [
        {
          "output_type": "execute_result",
          "data": {
            "text/plain": [
              "[<matplotlib.lines.Line2D at 0x7f6afc01e410>]"
            ]
          },
          "metadata": {},
          "execution_count": 343
        },
        {
          "output_type": "display_data",
          "data": {
            "image/png": "[encoded data removed]",
            "text/plain": [
              "<Figure size 432x288 with 1 Axes>"
            ]
          },
          "metadata": {
            "needs_background": "light"
          }
        }
      ]
    },
    {
      "cell_type": "markdown",
      "source": [
        "##Problem - 5"
      ],
      "metadata": {
        "id": "q8hlRUDU7BNO"
      }
    },
    {
      "cell_type": "code",
      "source": [
        "# Importing Libraries & Data\n",
        "\n",
        "from sklearn.model_selection import train_test_split as tts\n",
        "from sklearn.linear_model import LogisticRegression as LR\n",
        "from sklearn.tree import DecisionTreeClassifier as DTC\n",
        "from sklearn.metrics import confusion_matrix as cm\n",
        "from sklearn.metrics import precision_score as ps\n",
        "from sklearn.metrics import recall_score as rs\n",
        "from sklearn.metrics import f1_score as f1s\n",
        "from sklearn.metrics import accuracy_score\n",
        "\n",
        "from warnings import simplefilter\n",
        "from sklearn.exceptions import ConvergenceWarning\n",
        "simplefilter(\"ignore\", category=ConvergenceWarning)\n",
        "\n",
        "data = pd.read_csv(path+\"Breast Cancer.csv\")\n",
        "\n",
        "# String Labels to Numeric\n",
        "\n",
        "condition_M = data.diagnosis == \"M\"\n",
        "condition_B = data.diagnosis == \"B\"\n",
        "\n",
        "data.loc[condition_M,\"diagnosis\"]=0\n",
        "data.loc[condition_B,\"diagnosis\"]=1\n",
        "\n",
        "data"
      ],
      "metadata": {
        "id": "4YVvXh4K7D7O",
        "colab": {
          "base_uri": "https://localhost:8080/",
          "height": 505
        },
        "outputId": "bb698798-771c-4ae9-d942-acede2e582dc"
      },
      "execution_count": 344,
      "outputs": [
        {
          "output_type": "execute_result",
          "data": {
            "text/html": [
              "\n",
              "  <div id=\"df-7f6c018b-7503-411e-ab38-c016e163cd74\">\n",
              "    <div class=\"colab-df-container\">\n",
              "      <div>\n",
              "<style scoped>\n",
              "    .dataframe tbody tr th:only-of-type {\n",
              "        vertical-align: middle;\n",
              "    }\n",
              "\n",
              "    .dataframe tbody tr th {\n",
              "        vertical-align: top;\n",
              "    }\n",
              "\n",
              "    .dataframe thead th {\n",
              "        text-align: right;\n",
              "    }\n",
              "</style>\n",
              "<table border=\"1\" class=\"dataframe\">\n",
              "  <thead>\n",
              "    <tr style=\"text-align: right;\">\n",
              "      <th></th>\n",
              "      <th>id</th>\n",
              "      <th>diagnosis</th>\n",
              "      <th>radius_mean</th>\n",
              "      <th>texture_mean</th>\n",
              "      <th>perimeter_mean</th>\n",
              "      <th>area_mean</th>\n",
              "      <th>smoothness_mean</th>\n",
              "      <th>compactness_mean</th>\n",
              "      <th>concavity_mean</th>\n",
              "      <th>concave points_mean</th>\n",
              "      <th>symmetry_mean</th>\n",
              "      <th>fractal_dimension_mean</th>\n",
              "      <th>radius_se</th>\n",
              "      <th>texture_se</th>\n",
              "      <th>perimeter_se</th>\n",
              "      <th>area_se</th>\n",
              "      <th>smoothness_se</th>\n",
              "      <th>compactness_se</th>\n",
              "      <th>concavity_se</th>\n",
              "      <th>concave points_se</th>\n",
              "      <th>symmetry_se</th>\n",
              "      <th>fractal_dimension_se</th>\n",
              "      <th>radius_worst</th>\n",
              "      <th>texture_worst</th>\n",
              "      <th>perimeter_worst</th>\n",
              "      <th>area_worst</th>\n",
              "      <th>smoothness_worst</th>\n",
              "      <th>compactness_worst</th>\n",
              "      <th>concavity_worst</th>\n",
              "      <th>concave points_worst</th>\n",
              "      <th>symmetry_worst</th>\n",
              "      <th>fractal_dimension_worst</th>\n",
              "      <th>Unnamed: 32</th>\n",
              "    </tr>\n",
              "  </thead>\n",
              "  <tbody>\n",
              "    <tr>\n",
              "      <th>0</th>\n",
              "      <td>842302</td>\n",
              "      <td>0</td>\n",
              "      <td>17.99</td>\n",
              "      <td>10.38</td>\n",
              "      <td>122.80</td>\n",
              "      <td>1001.0</td>\n",
              "      <td>0.11840</td>\n",
              "      <td>0.27760</td>\n",
              "      <td>0.30010</td>\n",
              "      <td>0.14710</td>\n",
              "      <td>0.2419</td>\n",
              "      <td>0.07871</td>\n",
              "      <td>1.0950</td>\n",
              "      <td>0.9053</td>\n",
              "      <td>8.589</td>\n",
              "      <td>153.40</td>\n",
              "      <td>0.006399</td>\n",
              "      <td>0.04904</td>\n",
              "      <td>0.05373</td>\n",
              "      <td>0.01587</td>\n",
              "      <td>0.03003</td>\n",
              "      <td>0.006193</td>\n",
              "      <td>25.380</td>\n",
              "      <td>17.33</td>\n",
              "      <td>184.60</td>\n",
              "      <td>2019.0</td>\n",
              "      <td>0.16220</td>\n",
              "      <td>0.66560</td>\n",
              "      <td>0.7119</td>\n",
              "      <td>0.2654</td>\n",
              "      <td>0.4601</td>\n",
              "      <td>0.11890</td>\n",
              "      <td>NaN</td>\n",
              "    </tr>\n",
              "    <tr>\n",
              "      <th>1</th>\n",
              "      <td>842517</td>\n",
              "      <td>0</td>\n",
              "      <td>20.57</td>\n",
              "      <td>17.77</td>\n",
              "      <td>132.90</td>\n",
              "      <td>1326.0</td>\n",
              "      <td>0.08474</td>\n",
              "      <td>0.07864</td>\n",
              "      <td>0.08690</td>\n",
              "      <td>0.07017</td>\n",
              "      <td>0.1812</td>\n",
              "      <td>0.05667</td>\n",
              "      <td>0.5435</td>\n",
              "      <td>0.7339</td>\n",
              "      <td>3.398</td>\n",
              "      <td>74.08</td>\n",
              "      <td>0.005225</td>\n",
              "      <td>0.01308</td>\n",
              "      <td>0.01860</td>\n",
              "      <td>0.01340</td>\n",
              "      <td>0.01389</td>\n",
              "      <td>0.003532</td>\n",
              "      <td>24.990</td>\n",
              "      <td>23.41</td>\n",
              "      <td>158.80</td>\n",
              "      <td>1956.0</td>\n",
              "      <td>0.12380</td>\n",
              "      <td>0.18660</td>\n",
              "      <td>0.2416</td>\n",
              "      <td>0.1860</td>\n",
              "      <td>0.2750</td>\n",
              "      <td>0.08902</td>\n",
              "      <td>NaN</td>\n",
              "    </tr>\n",
              "    <tr>\n",
              "      <th>2</th>\n",
              "      <td>84300903</td>\n",
              "      <td>0</td>\n",
              "      <td>19.69</td>\n",
              "      <td>21.25</td>\n",
              "      <td>130.00</td>\n",
              "      <td>1203.0</td>\n",
              "      <td>0.10960</td>\n",
              "      <td>0.15990</td>\n",
              "      <td>0.19740</td>\n",
              "      <td>0.12790</td>\n",
              "      <td>0.2069</td>\n",
              "      <td>0.05999</td>\n",
              "      <td>0.7456</td>\n",
              "      <td>0.7869</td>\n",
              "      <td>4.585</td>\n",
              "      <td>94.03</td>\n",
              "      <td>0.006150</td>\n",
              "      <td>0.04006</td>\n",
              "      <td>0.03832</td>\n",
              "      <td>0.02058</td>\n",
              "      <td>0.02250</td>\n",
              "      <td>0.004571</td>\n",
              "      <td>23.570</td>\n",
              "      <td>25.53</td>\n",
              "      <td>152.50</td>\n",
              "      <td>1709.0</td>\n",
              "      <td>0.14440</td>\n",
              "      <td>0.42450</td>\n",
              "      <td>0.4504</td>\n",
              "      <td>0.2430</td>\n",
              "      <td>0.3613</td>\n",
              "      <td>0.08758</td>\n",
              "      <td>NaN</td>\n",
              "    </tr>\n",
              "    <tr>\n",
              "      <th>3</th>\n",
              "      <td>84348301</td>\n",
              "      <td>0</td>\n",
              "      <td>11.42</td>\n",
              "      <td>20.38</td>\n",
              "      <td>77.58</td>\n",
              "      <td>386.1</td>\n",
              "      <td>0.14250</td>\n",
              "      <td>0.28390</td>\n",
              "      <td>0.24140</td>\n",
              "      <td>0.10520</td>\n",
              "      <td>0.2597</td>\n",
              "      <td>0.09744</td>\n",
              "      <td>0.4956</td>\n",
              "      <td>1.1560</td>\n",
              "      <td>3.445</td>\n",
              "      <td>27.23</td>\n",
              "      <td>0.009110</td>\n",
              "      <td>0.07458</td>\n",
              "      <td>0.05661</td>\n",
              "      <td>0.01867</td>\n",
              "      <td>0.05963</td>\n",
              "      <td>0.009208</td>\n",
              "      <td>14.910</td>\n",
              "      <td>26.50</td>\n",
              "      <td>98.87</td>\n",
              "      <td>567.7</td>\n",
              "      <td>0.20980</td>\n",
              "      <td>0.86630</td>\n",
              "      <td>0.6869</td>\n",
              "      <td>0.2575</td>\n",
              "      <td>0.6638</td>\n",
              "      <td>0.17300</td>\n",
              "      <td>NaN</td>\n",
              "    </tr>\n",
              "    <tr>\n",
              "      <th>4</th>\n",
              "      <td>84358402</td>\n",
              "      <td>0</td>\n",
              "      <td>20.29</td>\n",
              "      <td>14.34</td>\n",
              "      <td>135.10</td>\n",
              "      <td>1297.0</td>\n",
              "      <td>0.10030</td>\n",
              "      <td>0.13280</td>\n",
              "      <td>0.19800</td>\n",
              "      <td>0.10430</td>\n",
              "      <td>0.1809</td>\n",
              "      <td>0.05883</td>\n",
              "      <td>0.7572</td>\n",
              "      <td>0.7813</td>\n",
              "      <td>5.438</td>\n",
              "      <td>94.44</td>\n",
              "      <td>0.011490</td>\n",
              "      <td>0.02461</td>\n",
              "      <td>0.05688</td>\n",
              "      <td>0.01885</td>\n",
              "      <td>0.01756</td>\n",
              "      <td>0.005115</td>\n",
              "      <td>22.540</td>\n",
              "      <td>16.67</td>\n",
              "      <td>152.20</td>\n",
              "      <td>1575.0</td>\n",
              "      <td>0.13740</td>\n",
              "      <td>0.20500</td>\n",
              "      <td>0.4000</td>\n",
              "      <td>0.1625</td>\n",
              "      <td>0.2364</td>\n",
              "      <td>0.07678</td>\n",
              "      <td>NaN</td>\n",
              "    </tr>\n",
              "    <tr>\n",
              "      <th>...</th>\n",
              "      <td>...</td>\n",
              "      <td>...</td>\n",
              "      <td>...</td>\n",
              "      <td>...</td>\n",
              "      <td>...</td>\n",
              "      <td>...</td>\n",
              "      <td>...</td>\n",
              "      <td>...</td>\n",
              "      <td>...</td>\n",
              "      <td>...</td>\n",
              "      <td>...</td>\n",
              "      <td>...</td>\n",
              "      <td>...</td>\n",
              "      <td>...</td>\n",
              "      <td>...</td>\n",
              "      <td>...</td>\n",
              "      <td>...</td>\n",
              "      <td>...</td>\n",
              "      <td>...</td>\n",
              "      <td>...</td>\n",
              "      <td>...</td>\n",
              "      <td>...</td>\n",
              "      <td>...</td>\n",
              "      <td>...</td>\n",
              "      <td>...</td>\n",
              "      <td>...</td>\n",
              "      <td>...</td>\n",
              "      <td>...</td>\n",
              "      <td>...</td>\n",
              "      <td>...</td>\n",
              "      <td>...</td>\n",
              "      <td>...</td>\n",
              "      <td>...</td>\n",
              "    </tr>\n",
              "    <tr>\n",
              "      <th>564</th>\n",
              "      <td>926424</td>\n",
              "      <td>0</td>\n",
              "      <td>21.56</td>\n",
              "      <td>22.39</td>\n",
              "      <td>142.00</td>\n",
              "      <td>1479.0</td>\n",
              "      <td>0.11100</td>\n",
              "      <td>0.11590</td>\n",
              "      <td>0.24390</td>\n",
              "      <td>0.13890</td>\n",
              "      <td>0.1726</td>\n",
              "      <td>0.05623</td>\n",
              "      <td>1.1760</td>\n",
              "      <td>1.2560</td>\n",
              "      <td>7.673</td>\n",
              "      <td>158.70</td>\n",
              "      <td>0.010300</td>\n",
              "      <td>0.02891</td>\n",
              "      <td>0.05198</td>\n",
              "      <td>0.02454</td>\n",
              "      <td>0.01114</td>\n",
              "      <td>0.004239</td>\n",
              "      <td>25.450</td>\n",
              "      <td>26.40</td>\n",
              "      <td>166.10</td>\n",
              "      <td>2027.0</td>\n",
              "      <td>0.14100</td>\n",
              "      <td>0.21130</td>\n",
              "      <td>0.4107</td>\n",
              "      <td>0.2216</td>\n",
              "      <td>0.2060</td>\n",
              "      <td>0.07115</td>\n",
              "      <td>NaN</td>\n",
              "    </tr>\n",
              "    <tr>\n",
              "      <th>565</th>\n",
              "      <td>926682</td>\n",
              "      <td>0</td>\n",
              "      <td>20.13</td>\n",
              "      <td>28.25</td>\n",
              "      <td>131.20</td>\n",
              "      <td>1261.0</td>\n",
              "      <td>0.09780</td>\n",
              "      <td>0.10340</td>\n",
              "      <td>0.14400</td>\n",
              "      <td>0.09791</td>\n",
              "      <td>0.1752</td>\n",
              "      <td>0.05533</td>\n",
              "      <td>0.7655</td>\n",
              "      <td>2.4630</td>\n",
              "      <td>5.203</td>\n",
              "      <td>99.04</td>\n",
              "      <td>0.005769</td>\n",
              "      <td>0.02423</td>\n",
              "      <td>0.03950</td>\n",
              "      <td>0.01678</td>\n",
              "      <td>0.01898</td>\n",
              "      <td>0.002498</td>\n",
              "      <td>23.690</td>\n",
              "      <td>38.25</td>\n",
              "      <td>155.00</td>\n",
              "      <td>1731.0</td>\n",
              "      <td>0.11660</td>\n",
              "      <td>0.19220</td>\n",
              "      <td>0.3215</td>\n",
              "      <td>0.1628</td>\n",
              "      <td>0.2572</td>\n",
              "      <td>0.06637</td>\n",
              "      <td>NaN</td>\n",
              "    </tr>\n",
              "    <tr>\n",
              "      <th>566</th>\n",
              "      <td>926954</td>\n",
              "      <td>0</td>\n",
              "      <td>16.60</td>\n",
              "      <td>28.08</td>\n",
              "      <td>108.30</td>\n",
              "      <td>858.1</td>\n",
              "      <td>0.08455</td>\n",
              "      <td>0.10230</td>\n",
              "      <td>0.09251</td>\n",
              "      <td>0.05302</td>\n",
              "      <td>0.1590</td>\n",
              "      <td>0.05648</td>\n",
              "      <td>0.4564</td>\n",
              "      <td>1.0750</td>\n",
              "      <td>3.425</td>\n",
              "      <td>48.55</td>\n",
              "      <td>0.005903</td>\n",
              "      <td>0.03731</td>\n",
              "      <td>0.04730</td>\n",
              "      <td>0.01557</td>\n",
              "      <td>0.01318</td>\n",
              "      <td>0.003892</td>\n",
              "      <td>18.980</td>\n",
              "      <td>34.12</td>\n",
              "      <td>126.70</td>\n",
              "      <td>1124.0</td>\n",
              "      <td>0.11390</td>\n",
              "      <td>0.30940</td>\n",
              "      <td>0.3403</td>\n",
              "      <td>0.1418</td>\n",
              "      <td>0.2218</td>\n",
              "      <td>0.07820</td>\n",
              "      <td>NaN</td>\n",
              "    </tr>\n",
              "    <tr>\n",
              "      <th>567</th>\n",
              "      <td>927241</td>\n",
              "      <td>0</td>\n",
              "      <td>20.60</td>\n",
              "      <td>29.33</td>\n",
              "      <td>140.10</td>\n",
              "      <td>1265.0</td>\n",
              "      <td>0.11780</td>\n",
              "      <td>0.27700</td>\n",
              "      <td>0.35140</td>\n",
              "      <td>0.15200</td>\n",
              "      <td>0.2397</td>\n",
              "      <td>0.07016</td>\n",
              "      <td>0.7260</td>\n",
              "      <td>1.5950</td>\n",
              "      <td>5.772</td>\n",
              "      <td>86.22</td>\n",
              "      <td>0.006522</td>\n",
              "      <td>0.06158</td>\n",
              "      <td>0.07117</td>\n",
              "      <td>0.01664</td>\n",
              "      <td>0.02324</td>\n",
              "      <td>0.006185</td>\n",
              "      <td>25.740</td>\n",
              "      <td>39.42</td>\n",
              "      <td>184.60</td>\n",
              "      <td>1821.0</td>\n",
              "      <td>0.16500</td>\n",
              "      <td>0.86810</td>\n",
              "      <td>0.9387</td>\n",
              "      <td>0.2650</td>\n",
              "      <td>0.4087</td>\n",
              "      <td>0.12400</td>\n",
              "      <td>NaN</td>\n",
              "    </tr>\n",
              "    <tr>\n",
              "      <th>568</th>\n",
              "      <td>92751</td>\n",
              "      <td>1</td>\n",
              "      <td>7.76</td>\n",
              "      <td>24.54</td>\n",
              "      <td>47.92</td>\n",
              "      <td>181.0</td>\n",
              "      <td>0.05263</td>\n",
              "      <td>0.04362</td>\n",
              "      <td>0.00000</td>\n",
              "      <td>0.00000</td>\n",
              "      <td>0.1587</td>\n",
              "      <td>0.05884</td>\n",
              "      <td>0.3857</td>\n",
              "      <td>1.4280</td>\n",
              "      <td>2.548</td>\n",
              "      <td>19.15</td>\n",
              "      <td>0.007189</td>\n",
              "      <td>0.00466</td>\n",
              "      <td>0.00000</td>\n",
              "      <td>0.00000</td>\n",
              "      <td>0.02676</td>\n",
              "      <td>0.002783</td>\n",
              "      <td>9.456</td>\n",
              "      <td>30.37</td>\n",
              "      <td>59.16</td>\n",
              "      <td>268.6</td>\n",
              "      <td>0.08996</td>\n",
              "      <td>0.06444</td>\n",
              "      <td>0.0000</td>\n",
              "      <td>0.0000</td>\n",
              "      <td>0.2871</td>\n",
              "      <td>0.07039</td>\n",
              "      <td>NaN</td>\n",
              "    </tr>\n",
              "  </tbody>\n",
              "</table>\n",
              "<p>569 rows × 33 columns</p>\n",
              "</div>\n",
              "      <button class=\"colab-df-convert\" onclick=\"convertToInteractive('df-7f6c018b-7503-411e-ab38-c016e163cd74')\"\n",
              "              title=\"Convert this dataframe to an interactive table.\"\n",
              "              style=\"display:none;\">\n",
              "        \n",
              "  <svg xmlns=\"http://www.w3.org/2000/svg\" height=\"24px\"viewBox=\"0 0 24 24\"\n",
              "       width=\"24px\">\n",
              "    <path d=\"M0 0h24v24H0V0z\" fill=\"none\"/>\n",
              "    <path d=\"M18.56 5.44l.94 2.06.94-2.06 2.06-.94-2.06-.94-.94-2.06-.94 2.06-2.06.94zm-11 1L8.5 8.5l.94-2.06 2.06-.94-2.06-.94L8.5 2.5l-.94 2.06-2.06.94zm10 10l.94 2.06.94-2.06 2.06-.94-2.06-.94-.94-2.06-.94 2.06-2.06.94z\"/><path d=\"M17.41 7.96l-1.37-1.37c-.4-.4-.92-.59-1.43-.59-.52 0-1.04.2-1.43.59L10.3 9.45l-7.72 7.72c-.78.78-.78 2.05 0 2.83L4 21.41c.39.39.9.59 1.41.59.51 0 1.02-.2 1.41-.59l7.78-7.78 2.81-2.81c.8-.78.8-2.07 0-2.86zM5.41 20L4 18.59l7.72-7.72 1.47 1.35L5.41 20z\"/>\n",
              "  </svg>\n",
              "      </button>\n",
              "      \n",
              "  <style>\n",
              "    .colab-df-container {\n",
              "      display:flex;\n",
              "      flex-wrap:wrap;\n",
              "      gap: 12px;\n",
              "    }\n",
              "\n",
              "    .colab-df-convert {\n",
              "      background-color: #E8F0FE;\n",
              "      border: none;\n",
              "      border-radius: 50%;\n",
              "      cursor: pointer;\n",
              "      display: none;\n",
              "      fill: #1967D2;\n",
              "      height: 32px;\n",
              "      padding: 0 0 0 0;\n",
              "      width: 32px;\n",
              "    }\n",
              "\n",
              "    .colab-df-convert:hover {\n",
              "      background-color: #E2EBFA;\n",
              "      box-shadow: 0px 1px 2px rgba(60, 64, 67, 0.3), 0px 1px 3px 1px rgba(60, 64, 67, 0.15);\n",
              "      fill: #174EA6;\n",
              "    }\n",
              "\n",
              "    [theme=dark] .colab-df-convert {\n",
              "      background-color: #3B4455;\n",
              "      fill: #D2E3FC;\n",
              "    }\n",
              "\n",
              "    [theme=dark] .colab-df-convert:hover {\n",
              "      background-color: #434B5C;\n",
              "      box-shadow: 0px 1px 3px 1px rgba(0, 0, 0, 0.15);\n",
              "      filter: drop-shadow(0px 1px 2px rgba(0, 0, 0, 0.3));\n",
              "      fill: #FFFFFF;\n",
              "    }\n",
              "  </style>\n",
              "\n",
              "      <script>\n",
              "        const buttonEl =\n",
              "          document.querySelector('#df-7f6c018b-7503-411e-ab38-c016e163cd74 button.colab-df-convert');\n",
              "        buttonEl.style.display =\n",
              "          google.colab.kernel.accessAllowed ? 'block' : 'none';\n",
              "\n",
              "        async function convertToInteractive(key) {\n",
              "          const element = document.querySelector('#df-7f6c018b-7503-411e-ab38-c016e163cd74');\n",
              "          const dataTable =\n",
              "            await google.colab.kernel.invokeFunction('convertToInteractive',\n",
              "                                                     [key], {});\n",
              "          if (!dataTable) return;\n",
              "\n",
              "          const docLinkHtml = 'Like what you see? Visit the ' +\n",
              "            '<a target=\"_blank\" href=https://colab.research.google.com/notebooks/data_table.ipynb>data table notebook</a>'\n",
              "            + ' to learn more about interactive tables.';\n",
              "          element.innerHTML = '';\n",
              "          dataTable['output_type'] = 'display_data';\n",
              "          await google.colab.output.renderOutput(dataTable, element);\n",
              "          const docLink = document.createElement('div');\n",
              "          docLink.innerHTML = docLinkHtml;\n",
              "          element.appendChild(docLink);\n",
              "        }\n",
              "      </script>\n",
              "    </div>\n",
              "  </div>\n",
              "  "
            ],
            "text/plain": [
              "           id diagnosis  ...  fractal_dimension_worst  Unnamed: 32\n",
              "0      842302         0  ...                  0.11890          NaN\n",
              "1      842517         0  ...                  0.08902          NaN\n",
              "2    84300903         0  ...                  0.08758          NaN\n",
              "3    84348301         0  ...                  0.17300          NaN\n",
              "4    84358402         0  ...                  0.07678          NaN\n",
              "..        ...       ...  ...                      ...          ...\n",
              "564    926424         0  ...                  0.07115          NaN\n",
              "565    926682         0  ...                  0.06637          NaN\n",
              "566    926954         0  ...                  0.07820          NaN\n",
              "567    927241         0  ...                  0.12400          NaN\n",
              "568     92751         1  ...                  0.07039          NaN\n",
              "\n",
              "[569 rows x 33 columns]"
            ]
          },
          "metadata": {},
          "execution_count": 344
        }
      ]
    },
    {
      "cell_type": "code",
      "source": [
        "# DF in np array \n",
        "\n",
        "Y = data.diagnosis.to_numpy().astype('int')                                     \n",
        "\n",
        "X_data = data.drop(columns=[\"id\",\"diagnosis\",\"Unnamed: 32\"])\n",
        "X = X_data.to_numpy()                  \n",
        "\n",
        "# Splitting Data\n",
        "\n",
        "user_prompt = 0.3\n",
        "user_enable = False\n",
        "\n",
        "x_train,x_test,y_train,y_test = tts(X,Y,test_size=user_prompt,shuffle=user_enable)\n",
        "\n",
        "# Training\n",
        "\n",
        "logistic_model = LR()\n",
        "logistic_model.fit(x_train,y_train)\n",
        "logistic_pred = logistic_model.predict(x_test)\n",
        "\n",
        "decision_model = DTC()\n",
        "decision_model.fit(x_train,y_train)\n",
        "decision_pred = decision_model.predict(x_test)\n",
        "Actual = np.copy(y_test)\n",
        "\n",
        "print(\"Actual : \\n\",Actual)\n",
        "print(\"Predicted (Logistic Regression) : \\n\",logistic_pred)\n",
        "print(\"Predicted (Decision Tree)       : \\n\",decision_pred)"
      ],
      "metadata": {
        "colab": {
          "base_uri": "https://localhost:8080/"
        },
        "id": "u9Tt1MFWp9BU",
        "outputId": "cfce2c9e-ec05-4647-b196-1402cc0b00ab"
      },
      "execution_count": 345,
      "outputs": [
        {
          "output_type": "stream",
          "name": "stdout",
          "text": [
            "Actual : \n",
            " [1 1 0 1 1 1 1 1 1 1 0 1 1 1 1 1 0 1 1 0 1 1 1 1 1 1 1 1 1 1 1 1 0 1 0 0 1\n",
            " 0 1 1 1 1 1 0 1 1 0 1 0 1 1 0 1 0 1 1 1 1 1 1 1 1 0 0 1 1 1 1 1 1 0 1 1 1\n",
            " 1 1 1 1 1 1 1 0 1 1 1 1 1 1 1 0 1 0 1 1 0 1 1 1 1 1 0 0 1 0 1 0 1 1 1 1 1\n",
            " 0 1 1 0 1 0 1 0 0 1 1 1 0 1 1 1 1 1 1 1 1 1 1 1 0 1 0 0 1 1 1 1 1 1 1 1 1\n",
            " 1 1 1 1 1 1 1 1 1 1 1 1 1 1 1 1 0 0 0 0 0 0 1]\n",
            "Predicted (Logistic Regression) : \n",
            " [1 1 0 1 1 1 1 1 1 1 0 1 1 1 1 0 0 1 1 0 1 1 1 1 1 1 1 1 1 1 1 1 0 1 0 0 1\n",
            " 0 1 1 1 1 1 0 1 1 0 1 0 1 0 0 1 0 1 1 1 0 0 1 1 1 0 0 1 1 1 0 1 1 0 1 1 1\n",
            " 1 1 1 1 0 1 1 0 1 0 1 1 1 1 1 0 1 0 1 0 0 1 1 1 1 1 0 0 1 0 1 0 1 1 1 1 1\n",
            " 0 1 1 0 1 0 1 0 0 1 1 1 0 1 1 1 1 1 1 1 1 1 1 1 0 1 0 1 1 1 1 1 0 0 1 1 1\n",
            " 1 1 1 1 1 1 1 1 1 1 1 1 1 1 1 1 0 0 0 0 0 0 1]\n",
            "Predicted (Decision Tree)       : \n",
            " [1 1 0 1 1 1 1 1 1 1 0 1 1 1 1 0 0 1 1 0 1 1 1 0 1 1 0 1 1 1 1 1 0 1 0 0 1\n",
            " 0 1 1 1 1 1 0 1 1 0 1 0 1 0 0 1 0 1 1 1 1 1 1 1 1 0 0 1 1 1 1 1 1 0 0 1 0\n",
            " 1 1 1 1 0 1 1 0 1 1 1 1 0 1 0 0 1 0 1 1 0 1 1 1 1 1 0 0 1 0 1 0 0 0 1 1 1\n",
            " 0 1 1 0 1 0 1 0 0 1 1 0 0 1 1 1 1 1 1 1 1 1 1 1 0 1 0 1 0 1 1 1 0 0 1 1 1\n",
            " 1 1 1 1 1 1 1 1 1 1 1 1 0 1 0 0 0 0 0 0 0 0 1]\n"
          ]
        }
      ]
    },
    {
      "cell_type": "markdown",
      "source": [
        "###Evaluation Metrics (Inbulit v/s Scratch)"
      ],
      "metadata": {
        "id": "bTWwnEVSrX-3"
      }
    },
    {
      "cell_type": "code",
      "source": [
        "from time import time as t\n",
        "\n",
        "def micro(now) : \n",
        "  return str(int(now*(10**6)))\n",
        "def acc(accuracy) :\n",
        "  accuracy = int(accuracy*(10**4))\n",
        "  accuracy = accuracy/100\n",
        "  return str(accuracy)+\" %\"\n",
        "\n",
        "bold = '\\033[1m'\n",
        "end = '\\033[0m'\n",
        "green = '\\033[92m'\n",
        "red = '\\033[91m'\n",
        "\n",
        "def print_accuracy(inbuilt,scratch,decision) :\n",
        "  if(decision) : print(\"\\nDecision Tree -\")\n",
        "  else : print(\"\\nLogistic Regression -\")\n",
        "  if(inbuilt>scratch) : inb,scr = green,red \n",
        "  elif(inbuilt<scratch) : inb,scr = red,green\n",
        "  else : inb=scr=''\n",
        "  print(f\"\\n\\t Inbuilt : {inb}{acc(inbuilt)}{end} \\n\\t Scratch : {scr}{acc(scratch)}{end}\")\n",
        "\n",
        "def print_time(inbuilt,scratch) :\n",
        "  if(inbuilt>scratch) : inb,scr = red,green \n",
        "  elif(inbuilt<scratch) : inb,scr = green,red\n",
        "  else : inb=scr=''\n",
        "  print(f\"\\nTime Taken -\\n \\n\\t Inbuilt : {inb}{micro(inbuilt)}{end} µs \\n\\t Scratch : {scr}{micro(scratch)}{end} µs\")  "
      ],
      "metadata": {
        "id": "sGPi52eGxxTG"
      },
      "execution_count": 346,
      "outputs": []
    },
    {
      "cell_type": "markdown",
      "source": [
        "#### 1) Average Accuracy & Class Wise Average Accuracy"
      ],
      "metadata": {
        "id": "jqPFpBiDtCnR"
      }
    },
    {
      "cell_type": "code",
      "source": [
        "# Average \n",
        "\n",
        "def average(actual,prediction):\n",
        "  acc = 0 \n",
        "  for i in range(actual.size) : \n",
        "    acc+= int(actual[i]==prediction[i])\n",
        "  acc = acc/actual.size\n",
        "  return acc \n",
        "\n",
        "now = t()\n",
        "inbuilt_acc_logistic = accuracy_score(y_test,logistic_pred)\n",
        "inbuilt_acc_decision = accuracy_score(y_test,decision_pred)\n",
        "inbuilt = t()-now\n",
        "\n",
        "now = t()\n",
        "scratch_acc_logistic = average(y_test,logistic_pred)\n",
        "scratch_acc_decision = average(y_test,decision_pred)\n",
        "scratch = t()-now\n",
        "\n",
        "print(bold+green+\"Average\"+end)\n",
        "print_accuracy(inbuilt_acc_logistic,scratch_acc_logistic,False)\n",
        "print_accuracy(inbuilt_acc_decision,scratch_acc_decision,True)\n",
        "print_time(inbuilt,scratch)"
      ],
      "metadata": {
        "colab": {
          "base_uri": "https://localhost:8080/"
        },
        "id": "M9_SjmP6uAn9",
        "outputId": "29d17a1f-fc0b-4dad-bc2a-0ce84942ea62"
      },
      "execution_count": 347,
      "outputs": [
        {
          "output_type": "stream",
          "name": "stdout",
          "text": [
            "\u001b[1m\u001b[92mAverage\u001b[0m\n",
            "\n",
            "Logistic Regression -\n",
            "\n",
            "\t Inbuilt : 93.56 %\u001b[0m \n",
            "\t Scratch : 93.56 %\u001b[0m\n",
            "\n",
            "Decision Tree -\n",
            "\n",
            "\t Inbuilt : 88.88 %\u001b[0m \n",
            "\t Scratch : 88.88 %\u001b[0m\n",
            "\n",
            "Time Taken -\n",
            " \n",
            "\t Inbuilt : \u001b[91m2343\u001b[0m µs \n",
            "\t Scratch : \u001b[92m579\u001b[0m µs\n"
          ]
        }
      ]
    },
    {
      "cell_type": "code",
      "source": [
        "# Class Wise Average\n",
        "\n",
        "def class_wise_average(actual,prediction):\n",
        "  acc = [0,0]\n",
        "  n = [0,0]\n",
        "  for i in range(actual.size) : \n",
        "    c = actual[i]\n",
        "    acc[c] = acc[c] + int(actual[i]==prediction[i])\n",
        "    n[c] = n[c] + 1\n",
        "  acc[0] = acc[0]/n[0]\n",
        "  acc[1] = acc[1]/n[1]\n",
        "  return acc \n",
        "\n",
        "now = t()\n",
        "cmx = cm(y_test,logistic_pred)\n",
        "cmx = cmx.astype('float') / cmx.sum(axis=1)[:, np.newaxis]\n",
        "inbuilt_cwa_logistic = cmx.diagonal()\n",
        "cmx = cm(y_test,decision_pred)\n",
        "cmx = cmx.astype('float') / cmx.sum(axis=1)[:, np.newaxis]\n",
        "inbuilt_cwa_decision = cmx.diagonal()\n",
        "inbuilt = t()-now\n",
        "\n",
        "now = t()\n",
        "scratch_cwa_logistic = class_wise_average(y_test,logistic_pred)\n",
        "scratch_cwa_decision = class_wise_average(y_test,decision_pred)\n",
        "scratch = t()-now\n",
        "\n",
        "print(bold+green+\"Class-Wise Average\"+end)\n",
        "print(f\"\\n{red}Malignant{end}\")\n",
        "print_accuracy(inbuilt_cwa_logistic[0],scratch_cwa_logistic[0],False)\n",
        "print_accuracy(inbuilt_cwa_decision[0],scratch_cwa_decision[0],True)\n",
        "print(f\"\\n{red}Benign{end}\")\n",
        "print_accuracy(inbuilt_cwa_logistic[1],scratch_cwa_logistic[1],False)\n",
        "print_accuracy(inbuilt_cwa_decision[1],scratch_cwa_decision[1],True)\n",
        "print()\n",
        "print_time(inbuilt,scratch)"
      ],
      "metadata": {
        "colab": {
          "base_uri": "https://localhost:8080/"
        },
        "id": "RVnOt5kWvK04",
        "outputId": "05ef3e9b-4b09-4fb2-aabe-315125a58258"
      },
      "execution_count": 348,
      "outputs": [
        {
          "output_type": "stream",
          "name": "stdout",
          "text": [
            "\u001b[1m\u001b[92mClass-Wise Average\u001b[0m\n",
            "\n",
            "\u001b[91mMalignant\u001b[0m\n",
            "\n",
            "Logistic Regression -\n",
            "\n",
            "\t Inbuilt : 97.43 %\u001b[0m \n",
            "\t Scratch : 97.43 %\u001b[0m\n",
            "\n",
            "Decision Tree -\n",
            "\n",
            "\t Inbuilt : 97.43 %\u001b[0m \n",
            "\t Scratch : 97.43 %\u001b[0m\n",
            "\n",
            "\u001b[91mBenign\u001b[0m\n",
            "\n",
            "Logistic Regression -\n",
            "\n",
            "\t Inbuilt : 92.42 %\u001b[0m \n",
            "\t Scratch : 92.42 %\u001b[0m\n",
            "\n",
            "Decision Tree -\n",
            "\n",
            "\t Inbuilt : 86.36 %\u001b[0m \n",
            "\t Scratch : 86.36 %\u001b[0m\n",
            "\n",
            "\n",
            "Time Taken -\n",
            " \n",
            "\t Inbuilt : \u001b[91m5867\u001b[0m µs \n",
            "\t Scratch : \u001b[92m487\u001b[0m µs\n"
          ]
        }
      ]
    },
    {
      "cell_type": "markdown",
      "source": [
        "####2) Precision"
      ],
      "metadata": {
        "id": "nCx0PgrLuBf1"
      }
    },
    {
      "cell_type": "code",
      "source": [
        "# Precision\n",
        "\n",
        "def precision(actual,prediction):\n",
        "  acc = 0 \n",
        "  for i in range(actual.size) : \n",
        "    acc+= int(actual[i]==1 and prediction[i]==1)\n",
        "  acc = acc/sum(prediction)\n",
        "  return acc \n",
        "\n",
        "now = t()\n",
        "inbuilt_ps_logistic = ps(y_test,logistic_pred)\n",
        "inbuilt_ps_decision = ps(y_test,decision_pred)\n",
        "inbuilt = t()-now\n",
        "\n",
        "now = t()\n",
        "scratch_ps_logistic = precision(y_test,logistic_pred)\n",
        "scratch_ps_decision = precision(y_test,decision_pred)\n",
        "scratch = t()-now\n",
        "\n",
        "print(bold+green+\"Precision\"+end)\n",
        "print_accuracy(inbuilt_ps_logistic,scratch_ps_logistic,False)\n",
        "print_accuracy(inbuilt_ps_decision,scratch_ps_decision,True)\n",
        "print_time(inbuilt,scratch)"
      ],
      "metadata": {
        "colab": {
          "base_uri": "https://localhost:8080/"
        },
        "id": "keR_BmrjuGMj",
        "outputId": "2061390b-67ae-462f-a1b8-8b6397c6b624"
      },
      "execution_count": 349,
      "outputs": [
        {
          "output_type": "stream",
          "name": "stdout",
          "text": [
            "\u001b[1m\u001b[92mPrecision\u001b[0m\n",
            "\n",
            "Logistic Regression -\n",
            "\n",
            "\t Inbuilt : 99.18 %\u001b[0m \n",
            "\t Scratch : 99.18 %\u001b[0m\n",
            "\n",
            "Decision Tree -\n",
            "\n",
            "\t Inbuilt : 99.13 %\u001b[0m \n",
            "\t Scratch : 99.13 %\u001b[0m\n",
            "\n",
            "Time Taken -\n",
            " \n",
            "\t Inbuilt : \u001b[91m3421\u001b[0m µs \n",
            "\t Scratch : \u001b[92m505\u001b[0m µs\n"
          ]
        }
      ]
    },
    {
      "cell_type": "markdown",
      "source": [
        "####3) Recall"
      ],
      "metadata": {
        "id": "XHIpgRELuGcz"
      }
    },
    {
      "cell_type": "code",
      "source": [
        "# Recall\n",
        "\n",
        "def recall(actual,prediction):\n",
        "  acc = 0 \n",
        "  for i in range(actual.size) : \n",
        "    acc+= int(actual[i]==1 and prediction[i]==1)\n",
        "  acc = acc/sum(actual)\n",
        "  return acc \n",
        "\n",
        "now = t()\n",
        "inbuilt_rs_logistic = rs(y_test,logistic_pred)\n",
        "inbuilt_rs_decision = rs(y_test,decision_pred)\n",
        "inbuilt = t()-now\n",
        "\n",
        "now = t()\n",
        "scratch_rs_logistic = recall(y_test,logistic_pred)\n",
        "scratch_rs_decision = recall(y_test,decision_pred)\n",
        "scratch = t()-now\n",
        "\n",
        "print(bold+green+\"Recall\"+end)\n",
        "print_accuracy(inbuilt_rs_logistic,scratch_rs_logistic,False)\n",
        "print_accuracy(inbuilt_rs_decision,scratch_rs_decision,True)\n",
        "print_time(inbuilt,scratch)"
      ],
      "metadata": {
        "colab": {
          "base_uri": "https://localhost:8080/"
        },
        "id": "XKTPEHpeuLFh",
        "outputId": "6f2dc62c-4b48-4f78-8411-84047c5bd39f"
      },
      "execution_count": 350,
      "outputs": [
        {
          "output_type": "stream",
          "name": "stdout",
          "text": [
            "\u001b[1m\u001b[92mRecall\u001b[0m\n",
            "\n",
            "Logistic Regression -\n",
            "\n",
            "\t Inbuilt : 92.42 %\u001b[0m \n",
            "\t Scratch : 92.42 %\u001b[0m\n",
            "\n",
            "Decision Tree -\n",
            "\n",
            "\t Inbuilt : 86.36 %\u001b[0m \n",
            "\t Scratch : 86.36 %\u001b[0m\n",
            "\n",
            "Time Taken -\n",
            " \n",
            "\t Inbuilt : \u001b[91m4978\u001b[0m µs \n",
            "\t Scratch : \u001b[92m458\u001b[0m µs\n"
          ]
        }
      ]
    },
    {
      "cell_type": "markdown",
      "source": [
        "####4) F1-Score"
      ],
      "metadata": {
        "id": "s2TsCLkhuLSG"
      }
    },
    {
      "cell_type": "code",
      "source": [
        "# F1-Score\n",
        "\n",
        "def F1(actual,prediction):\n",
        "  acc = 0 \n",
        "  for i in range(actual.size) : \n",
        "    acc+= int(actual[i]==1 and prediction[i]==1)\n",
        "  ps = acc/sum(prediction)\n",
        "  rs = acc/sum(actual)\n",
        "  acc = 2*ps*rs\n",
        "  acc = acc/(ps+rs)\n",
        "  return acc\n",
        "\n",
        "now = t()\n",
        "inbuilt_f1s_logistic = f1s(y_test,logistic_pred)\n",
        "inbuilt_f1s_decision = f1s(y_test,decision_pred)\n",
        "inbuilt = t()-now\n",
        "\n",
        "now = t()\n",
        "scratch_f1s_logistic = F1(y_test,logistic_pred)\n",
        "scratch_f1s_decision = F1(y_test,decision_pred)\n",
        "scratch = t()-now\n",
        "\n",
        "print(bold+green+\"F1-Score\"+end)\n",
        "print_accuracy(inbuilt_f1s_logistic,scratch_f1s_logistic,False)\n",
        "print_accuracy(inbuilt_f1s_decision,scratch_f1s_decision,True)\n",
        "print_time(inbuilt,scratch)"
      ],
      "metadata": {
        "colab": {
          "base_uri": "https://localhost:8080/"
        },
        "id": "rqeJeuLwuOOF",
        "outputId": "cc865440-c894-4cfc-e390-1412f4e581ff"
      },
      "execution_count": 351,
      "outputs": [
        {
          "output_type": "stream",
          "name": "stdout",
          "text": [
            "\u001b[1m\u001b[92mF1-Score\u001b[0m\n",
            "\n",
            "Logistic Regression -\n",
            "\n",
            "\t Inbuilt : 95.68 %\u001b[0m \n",
            "\t Scratch : 95.68 %\u001b[0m\n",
            "\n",
            "Decision Tree -\n",
            "\n",
            "\t Inbuilt : 92.3 %\u001b[0m \n",
            "\t Scratch : 92.3 %\u001b[0m\n",
            "\n",
            "Time Taken -\n",
            " \n",
            "\t Inbuilt : \u001b[91m4408\u001b[0m µs \n",
            "\t Scratch : \u001b[92m1008\u001b[0m µs\n"
          ]
        }
      ]
    },
    {
      "cell_type": "markdown",
      "source": [
        "####5) Sensitivity"
      ],
      "metadata": {
        "id": "nWgOXvWiuN6l"
      }
    },
    {
      "cell_type": "code",
      "source": [
        "# Sensitivity\n",
        "\n",
        "def sensitivity(actual,prediction):\n",
        "  acc = 0 \n",
        "  for i in range(actual.size) : \n",
        "    acc+= int(actual[i]==1 and prediction[i]==1)\n",
        "  acc = acc/sum(actual)\n",
        "  return acc \n",
        "\n",
        "now = t()\n",
        "inbuilt_se_logistic = rs(y_test,logistic_pred)\n",
        "inbuilt_se_decision = rs(y_test,decision_pred)\n",
        "inbuilt = t()-now\n",
        "\n",
        "now = t()\n",
        "scratch_se_logistic = sensitivity(y_test,logistic_pred)\n",
        "scratch_se_decision = sensitivity(y_test,decision_pred)\n",
        "scratch = t()-now\n",
        "\n",
        "print(bold+green+\"Sensitivity\"+end)\n",
        "print_accuracy(inbuilt_se_logistic,scratch_se_logistic,False)\n",
        "print_accuracy(inbuilt_se_decision,scratch_se_decision,True)\n",
        "print_time(inbuilt,scratch)"
      ],
      "metadata": {
        "colab": {
          "base_uri": "https://localhost:8080/"
        },
        "id": "8DZ7VIFxuSt2",
        "outputId": "6a92fcbd-792d-400c-bcad-29b29436ccce"
      },
      "execution_count": 352,
      "outputs": [
        {
          "output_type": "stream",
          "name": "stdout",
          "text": [
            "\u001b[1m\u001b[92mSensitivity\u001b[0m\n",
            "\n",
            "Logistic Regression -\n",
            "\n",
            "\t Inbuilt : 92.42 %\u001b[0m \n",
            "\t Scratch : 92.42 %\u001b[0m\n",
            "\n",
            "Decision Tree -\n",
            "\n",
            "\t Inbuilt : 86.36 %\u001b[0m \n",
            "\t Scratch : 86.36 %\u001b[0m\n",
            "\n",
            "Time Taken -\n",
            " \n",
            "\t Inbuilt : \u001b[91m8678\u001b[0m µs \n",
            "\t Scratch : \u001b[92m1204\u001b[0m µs\n"
          ]
        }
      ]
    },
    {
      "cell_type": "markdown",
      "source": [
        "####6) Specificity"
      ],
      "metadata": {
        "id": "ZN2ousUMuS_a"
      }
    },
    {
      "cell_type": "code",
      "source": [
        "# Specificity\n",
        "\n",
        "def specificity(actual,prediction):\n",
        "  acc = 0 \n",
        "  for i in range(actual.size) : \n",
        "    acc+= int(actual[i]==0 and prediction[i]==0)\n",
        "  acc = acc/(len(actual)-sum(actual))\n",
        "  return acc \n",
        "\n",
        "now = t()\n",
        "inbuilt_sp_logistic = rs(y_test,logistic_pred,pos_label=0)\n",
        "inbuilt_sp_decision = rs(y_test,decision_pred,pos_label=0)\n",
        "inbuilt = t()-now\n",
        "\n",
        "now = t()\n",
        "scratch_sp_logistic = specificity(y_test,logistic_pred)\n",
        "scratch_sp_decision = specificity(y_test,decision_pred)\n",
        "scratch = t()-now\n",
        "\n",
        "print(bold+green+\"Specificity\"+end)\n",
        "print_accuracy(inbuilt_sp_logistic,scratch_sp_logistic,False)\n",
        "print_accuracy(inbuilt_sp_decision,scratch_sp_decision,True)\n",
        "print_time(inbuilt,scratch)"
      ],
      "metadata": {
        "colab": {
          "base_uri": "https://localhost:8080/"
        },
        "id": "PAvnzPBuuXDQ",
        "outputId": "e2c75445-7c37-4108-ed64-300adea81b01"
      },
      "execution_count": 353,
      "outputs": [
        {
          "output_type": "stream",
          "name": "stdout",
          "text": [
            "\u001b[1m\u001b[92mSpecificity\u001b[0m\n",
            "\n",
            "Logistic Regression -\n",
            "\n",
            "\t Inbuilt : 97.43 %\u001b[0m \n",
            "\t Scratch : 97.43 %\u001b[0m\n",
            "\n",
            "Decision Tree -\n",
            "\n",
            "\t Inbuilt : 97.43 %\u001b[0m \n",
            "\t Scratch : 97.43 %\u001b[0m\n",
            "\n",
            "Time Taken -\n",
            " \n",
            "\t Inbuilt : \u001b[91m6130\u001b[0m µs \n",
            "\t Scratch : \u001b[92m783\u001b[0m µs\n"
          ]
        }
      ]
    }
  ]
}